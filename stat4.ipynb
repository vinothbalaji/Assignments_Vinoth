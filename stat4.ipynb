{
 "cells": [
  {
   "cell_type": "markdown",
   "metadata": {},
   "source": [
    "Problem Statement 1:\n",
    "Is gender independent of education level? A random sample of 395 people were\n",
    "surveyed and each person was asked to report the highest education level they\n",
    "obtained. The data that resulted from the survey is summarized in the following table:\n",
    "High School Bachelors Masters Ph.d. Total\n",
    "Female 60 54 46 41 201\n",
    "Male 40 44 53 57 194\n",
    "Total 100 98 99 98 395\n",
    "Question: Are gender and education level dependent at 5% level of significance? In\n",
    "other words, given the data collected above, is there a relationship between the\n",
    "gender of an individual and the level of education that they have obtained?"
   ]
  },
  {
   "cell_type": "code",
   "execution_count": 49,
   "metadata": {},
   "outputs": [
    {
     "data": {
      "text/html": [
       "<div>\n",
       "<style scoped>\n",
       "    .dataframe tbody tr th:only-of-type {\n",
       "        vertical-align: middle;\n",
       "    }\n",
       "\n",
       "    .dataframe tbody tr th {\n",
       "        vertical-align: top;\n",
       "    }\n",
       "\n",
       "    .dataframe thead th {\n",
       "        text-align: right;\n",
       "    }\n",
       "</style>\n",
       "<table border=\"1\" class=\"dataframe\">\n",
       "  <thead>\n",
       "    <tr style=\"text-align: right;\">\n",
       "      <th></th>\n",
       "      <th>Highschool</th>\n",
       "      <th>bachleors</th>\n",
       "      <th>masters</th>\n",
       "      <th>phd</th>\n",
       "      <th>total</th>\n",
       "    </tr>\n",
       "  </thead>\n",
       "  <tbody>\n",
       "    <tr>\n",
       "      <th>Female</th>\n",
       "      <td>60</td>\n",
       "      <td>50</td>\n",
       "      <td>46</td>\n",
       "      <td>41</td>\n",
       "      <td>201</td>\n",
       "    </tr>\n",
       "    <tr>\n",
       "      <th>male</th>\n",
       "      <td>40</td>\n",
       "      <td>44</td>\n",
       "      <td>53</td>\n",
       "      <td>57</td>\n",
       "      <td>194</td>\n",
       "    </tr>\n",
       "    <tr>\n",
       "      <th>total</th>\n",
       "      <td>100</td>\n",
       "      <td>98</td>\n",
       "      <td>99</td>\n",
       "      <td>98</td>\n",
       "      <td>395</td>\n",
       "    </tr>\n",
       "  </tbody>\n",
       "</table>\n",
       "</div>"
      ],
      "text/plain": [
       "        Highschool  bachleors  masters  phd  total\n",
       "Female          60         50       46   41    201\n",
       "male            40         44       53   57    194\n",
       "total          100         98       99   98    395"
      ]
     },
     "execution_count": 49,
     "metadata": {},
     "output_type": "execute_result"
    }
   ],
   "source": [
    "import pandas as pd\n",
    "f=[[60,50,46,41,201],[40,44,53,57,194],[100,98,99,98,395]]\n",
    "title=['Highschool','bachleors','masters','phd','total']\n",
    " \n",
    "df = pd.DataFrame(f, index=['Female','male','total'], columns =title) \n",
    "df"
   ]
  },
  {
   "cell_type": "code",
   "execution_count": 50,
   "metadata": {},
   "outputs": [
    {
     "data": {
      "text/plain": [
       "(3, 5)"
      ]
     },
     "execution_count": 50,
     "metadata": {},
     "output_type": "execute_result"
    }
   ],
   "source": [
    "df.shape"
   ]
  },
  {
   "cell_type": "code",
   "execution_count": 54,
   "metadata": {},
   "outputs": [
    {
     "name": "stdout",
     "output_type": "stream",
     "text": [
      "[50.89, 48.13, 99.0, 49.87, 194.0, 100.0, 49.87, 48.62, 98.0, 201.0, 49.11, 98.0, 50.38, 48.13, 395.0]\n",
      "[50.89, 49.87, 50.38, 49.87, 201.0]\n",
      "[49.11, 48.13, 48.62, 48.13, 194.0]\n"
     ]
    },
    {
     "name": "stderr",
     "output_type": "stream",
     "text": [
      "D:\\anaconda\\lib\\site-packages\\ipykernel_launcher.py:7: FutureWarning: get_value is deprecated and will be removed in a future release. Please use .at[] or .iat[] accessors instead\n",
      "  import sys\n"
     ]
    }
   ],
   "source": [
    "lst=[]\n",
    "i=0\n",
    "for j in range(3):\n",
    "    \n",
    "    for k in range(5):\n",
    "        #print(k)\n",
    "        e=(df.get_value(2,k, takeable = True)*df.get_value(i,4, takeable = True))/df.get_value(2, 4, takeable = True)\n",
    "        #print(i)\n",
    "        i+=1\n",
    "        if(i==3):\n",
    "            i=0\n",
    "        e=float(\"{:.2f}\".format(e))\n",
    "        lst.append(e)\n",
    "    k=k+1\n",
    "        \n",
    "\n",
    "print(lst)\n",
    "newl1=[lst[0],lst[3],lst[12],lst[6],lst[9]]\n",
    "print(newl1)\n",
    "newl2=[lst[10],lst[1],lst[7],lst[13],lst[4]]\n",
    "print(newl2)\n"
   ]
  },
  {
   "cell_type": "code",
   "execution_count": 55,
   "metadata": {},
   "outputs": [
    {
     "data": {
      "text/html": [
       "<div>\n",
       "<style scoped>\n",
       "    .dataframe tbody tr th:only-of-type {\n",
       "        vertical-align: middle;\n",
       "    }\n",
       "\n",
       "    .dataframe tbody tr th {\n",
       "        vertical-align: top;\n",
       "    }\n",
       "\n",
       "    .dataframe thead th {\n",
       "        text-align: right;\n",
       "    }\n",
       "</style>\n",
       "<table border=\"1\" class=\"dataframe\">\n",
       "  <thead>\n",
       "    <tr style=\"text-align: right;\">\n",
       "      <th></th>\n",
       "      <th>Highschool</th>\n",
       "      <th>bachleors</th>\n",
       "      <th>masters</th>\n",
       "      <th>phd</th>\n",
       "      <th>total</th>\n",
       "    </tr>\n",
       "  </thead>\n",
       "  <tbody>\n",
       "    <tr>\n",
       "      <th>Female</th>\n",
       "      <td>50.89</td>\n",
       "      <td>49.87</td>\n",
       "      <td>50.38</td>\n",
       "      <td>49.87</td>\n",
       "      <td>201.0</td>\n",
       "    </tr>\n",
       "    <tr>\n",
       "      <th>male</th>\n",
       "      <td>49.11</td>\n",
       "      <td>48.13</td>\n",
       "      <td>48.62</td>\n",
       "      <td>48.13</td>\n",
       "      <td>194.0</td>\n",
       "    </tr>\n",
       "    <tr>\n",
       "      <th>total</th>\n",
       "      <td>100.00</td>\n",
       "      <td>98.00</td>\n",
       "      <td>99.00</td>\n",
       "      <td>98.00</td>\n",
       "      <td>395.0</td>\n",
       "    </tr>\n",
       "  </tbody>\n",
       "</table>\n",
       "</div>"
      ],
      "text/plain": [
       "        Highschool  bachleors  masters    phd  total\n",
       "Female       50.89      49.87    50.38  49.87  201.0\n",
       "male         49.11      48.13    48.62  48.13  194.0\n",
       "total       100.00      98.00    99.00  98.00  395.0"
      ]
     },
     "execution_count": 55,
     "metadata": {},
     "output_type": "execute_result"
    }
   ],
   "source": [
    "f1=[newl1,newl2,[100,98,99,98,395]]\n",
    "df = pd.DataFrame(f1, index=['Female','male','total'], columns =title) \n",
    "df"
   ]
  },
  {
   "cell_type": "code",
   "execution_count": 56,
   "metadata": {},
   "outputs": [],
   "source": [
    "f=[f[0],f[1]]\n",
    "f1=[f1[0],f1[1]]"
   ]
  },
  {
   "cell_type": "code",
   "execution_count": 57,
   "metadata": {},
   "outputs": [
    {
     "data": {
      "text/plain": [
       "[[60, 50, 46, 41, 201], [40, 44, 53, 57, 194]]"
      ]
     },
     "execution_count": 57,
     "metadata": {},
     "output_type": "execute_result"
    }
   ],
   "source": [
    "f"
   ]
  },
  {
   "cell_type": "code",
   "execution_count": 58,
   "metadata": {},
   "outputs": [],
   "source": [
    "import itertools\n",
    "\n",
    "f = list(itertools.chain.from_iterable(f))\n",
    "f1=list(itertools.chain.from_iterable(f1))\n"
   ]
  },
  {
   "cell_type": "code",
   "execution_count": 59,
   "metadata": {},
   "outputs": [
    {
     "name": "stdout",
     "output_type": "stream",
     "text": [
      "[60, 50, 46, 41, 201, 40, 44, 53, 57, 194] [50.89, 49.87, 50.38, 49.87, 201.0, 49.11, 48.13, 48.62, 48.13, 194.0]\n"
     ]
    }
   ],
   "source": [
    "print(f,f1)"
   ]
  },
  {
   "cell_type": "code",
   "execution_count": 60,
   "metadata": {},
   "outputs": [
    {
     "name": "stdout",
     "output_type": "stream",
     "text": [
      "1.6308135193554725\n",
      "0.0003388810908361874\n",
      "0.38079396585946845\n",
      "1.5776398636454776\n",
      "0.0\n",
      "1.689922622683771\n",
      "0.3543922709328905\n",
      "0.3945783628136574\n",
      "1.6346748389777677\n",
      "0.0\n"
     ]
    }
   ],
   "source": [
    "x2=0\n",
    "for i in range(len(f)):\n",
    "    x2+=((float(f[i])-f1[i])**2)/f1[i]\n",
    "    print(((float(f[i])-f1[i])**2)/f1[i])"
   ]
  },
  {
   "cell_type": "code",
   "execution_count": 61,
   "metadata": {},
   "outputs": [
    {
     "data": {
      "text/plain": [
       "7.663154325359341"
      ]
     },
     "execution_count": 61,
     "metadata": {},
     "output_type": "execute_result"
    }
   ],
   "source": [
    "x2"
   ]
  },
  {
   "cell_type": "markdown",
   "metadata": {},
   "source": [
    "from the chisquare test table with confidence level 0.05 Degrees of freedom 3 the critical value is found to be 7.815"
   ]
  },
  {
   "cell_type": "code",
   "execution_count": 63,
   "metadata": {},
   "outputs": [
    {
     "data": {
      "text/plain": [
       "0.0003388810908361874"
      ]
     },
     "execution_count": 63,
     "metadata": {},
     "output_type": "execute_result"
    }
   ],
   "source": [
    "((50-49.87)**2)/49.87\n"
   ]
  },
  {
   "cell_type": "markdown",
   "metadata": {},
   "source": [
    "since 7.66 < 7.88, I accept the null hypothesis and conclude that the education level independent on gender at a 5% level of significance."
   ]
  },
  {
   "cell_type": "markdown",
   "metadata": {},
   "source": [
    "but while doing manual calculation it seems the value comes around 8.006, In that case it should be rejected "
   ]
  },
  {
   "cell_type": "markdown",
   "metadata": {},
   "source": [
    "# Problem 2"
   ]
  },
  {
   "cell_type": "code",
   "execution_count": 183,
   "metadata": {},
   "outputs": [
    {
     "data": {
      "text/plain": [
       "69.8"
      ]
     },
     "execution_count": 183,
     "metadata": {},
     "output_type": "execute_result"
    }
   ],
   "source": [
    "\n",
    "g1=[51, 45, 33, 45, 67]\n",
    "g2=[ 23, 43, 23, 43, 45]\n",
    "g3=[ 56, 76, 74, 87, 56]\n",
    "meang1=sum(g1)/5\n",
    "meang2=sum(g2)/5\n",
    "meang3=sum(g3)/5\n",
    "meang3"
   ]
  },
  {
   "cell_type": "code",
   "execution_count": 184,
   "metadata": {},
   "outputs": [],
   "source": [
    "devg2=list(map(lambda x:x-meang2, g2))\n",
    "devg3=list(map(lambda x:x-meang3, g3))\n",
    "devg1=list(map(lambda x:x-meang1, g1))"
   ]
  },
  {
   "cell_type": "code",
   "execution_count": 185,
   "metadata": {},
   "outputs": [
    {
     "data": {
      "text/plain": [
       "[-13.799999999999997,\n",
       " 6.200000000000003,\n",
       " 4.200000000000003,\n",
       " 17.200000000000003,\n",
       " -13.799999999999997]"
      ]
     },
     "execution_count": 185,
     "metadata": {},
     "output_type": "execute_result"
    }
   ],
   "source": [
    "devg3"
   ]
  },
  {
   "cell_type": "code",
   "execution_count": 186,
   "metadata": {},
   "outputs": [
    {
     "data": {
      "text/plain": [
       "list"
      ]
     },
     "execution_count": 186,
     "metadata": {},
     "output_type": "execute_result"
    }
   ],
   "source": [
    "type(devg1)"
   ]
  },
  {
   "cell_type": "code",
   "execution_count": 215,
   "metadata": {},
   "outputs": [
    {
     "data": {
      "text/plain": [
       "[7.839999999999984,\n",
       " 10.240000000000018,\n",
       " 231.04000000000008,\n",
       " 10.240000000000018,\n",
       " 353.4399999999999]"
      ]
     },
     "execution_count": 215,
     "metadata": {},
     "output_type": "execute_result"
    }
   ],
   "source": [
    "sqdev1=list(map(lambda x:x**2,devg1))\n",
    "sqdev2=list(map(lambda x:x**2,devg2))\n",
    "sqdev3=list(map(lambda x:x**2,devg3))\n",
    "sqdev1"
   ]
  },
  {
   "cell_type": "code",
   "execution_count": 258,
   "metadata": {},
   "outputs": [
    {
     "data": {
      "text/plain": [
       "515.2"
      ]
     },
     "execution_count": 258,
     "metadata": {},
     "output_type": "execute_result"
    }
   ],
   "source": [
    "ss1=sum(sqdev1)\n",
    "ss2=sum(sqdev2)\n",
    "ss3=sum(sqdev3)\n"
   ]
  },
  {
   "cell_type": "code",
   "execution_count": 261,
   "metadata": {},
   "outputs": [
    {
     "name": "stdout",
     "output_type": "stream",
     "text": [
      "604.5866666666666 515.2 732.8 617.5288888888889\n"
     ]
    }
   ],
   "source": [
    "ssmeans=(ss1+ss2+ss3)/3\n",
    "ssmeans\n",
    "print(ss1,ss2,ss3,ssmeans)"
   ]
  },
  {
   "cell_type": "code",
   "execution_count": 240,
   "metadata": {},
   "outputs": [
    {
     "data": {
      "text/plain": [
       "151.14666666666665"
      ]
     },
     "execution_count": 240,
     "metadata": {},
     "output_type": "execute_result"
    }
   ],
   "source": [
    "var1=ss1/(5-1) #no of data -1\n",
    "var2=ss2/(5-1)\n",
    "var3=ss3/(5-1)\n",
    "var1"
   ]
  },
  {
   "cell_type": "code",
   "execution_count": 241,
   "metadata": {},
   "outputs": [],
   "source": [
    "mse=(var1+var2+var3)/3"
   ]
  },
  {
   "cell_type": "code",
   "execution_count": 242,
   "metadata": {},
   "outputs": [],
   "source": [
    "df=15-3 #15 values 3 group"
   ]
  },
  {
   "cell_type": "code",
   "execution_count": 243,
   "metadata": {},
   "outputs": [],
   "source": [
    "sserror=mse/df"
   ]
  },
  {
   "cell_type": "code",
   "execution_count": 244,
   "metadata": {},
   "outputs": [],
   "source": [
    "granmean=(meang1+meang2+meang3)/3 #mean of means"
   ]
  },
  {
   "cell_type": "code",
   "execution_count": 245,
   "metadata": {},
   "outputs": [],
   "source": [
    "mean=[meang1, meang2,meang3]\n",
    "grandmea=[granmean,granmean,granmean]"
   ]
  },
  {
   "cell_type": "code",
   "execution_count": 246,
   "metadata": {},
   "outputs": [
    {
     "data": {
      "text/plain": [
       "[51.133333333333326, 51.133333333333326, 51.133333333333326]"
      ]
     },
     "execution_count": 246,
     "metadata": {},
     "output_type": "execute_result"
    }
   ],
   "source": [
    "grandmea"
   ]
  },
  {
   "cell_type": "code",
   "execution_count": 247,
   "metadata": {},
   "outputs": [
    {
     "data": {
      "text/plain": [
       "[[2.799999999999997,\n",
       "  -3.200000000000003,\n",
       "  -15.200000000000003,\n",
       "  -3.200000000000003,\n",
       "  18.799999999999997],\n",
       " [-12.399999999999999,\n",
       "  7.600000000000001,\n",
       "  -12.399999999999999,\n",
       "  7.600000000000001,\n",
       "  9.600000000000001],\n",
       " [-13.799999999999997,\n",
       "  6.200000000000003,\n",
       "  4.200000000000003,\n",
       "  17.200000000000003,\n",
       "  -13.799999999999997]]"
      ]
     },
     "execution_count": 247,
     "metadata": {},
     "output_type": "execute_result"
    }
   ],
   "source": [
    "dev=[devg1,devg2,devg3]\n",
    "dev"
   ]
  },
  {
   "cell_type": "code",
   "execution_count": 248,
   "metadata": {},
   "outputs": [
    {
     "data": {
      "text/plain": [
       "2.842170943040401e-15"
      ]
     },
     "execution_count": 248,
     "metadata": {},
     "output_type": "execute_result"
    }
   ],
   "source": [
    "sqdev=[sqdev1,sqdev2,sqdev3]\n",
    "sum(devg3)/5"
   ]
  },
  {
   "cell_type": "code",
   "execution_count": 249,
   "metadata": {},
   "outputs": [],
   "source": [
    "dev11=list(map(lambda x,y:x-y,mean,grandmea))"
   ]
  },
  {
   "cell_type": "code",
   "execution_count": 250,
   "metadata": {},
   "outputs": [],
   "source": [
    "sqdev1=list(map(lambda x:x**2,dev11))\n"
   ]
  },
  {
   "cell_type": "code",
   "execution_count": 251,
   "metadata": {},
   "outputs": [],
   "source": [
    "lst1=[mean,grandmea,dev11,sqdev1]"
   ]
  },
  {
   "cell_type": "code",
   "execution_count": 252,
   "metadata": {},
   "outputs": [
    {
     "data": {
      "text/html": [
       "<div>\n",
       "<style scoped>\n",
       "    .dataframe tbody tr th:only-of-type {\n",
       "        vertical-align: middle;\n",
       "    }\n",
       "\n",
       "    .dataframe tbody tr th {\n",
       "        vertical-align: top;\n",
       "    }\n",
       "\n",
       "    .dataframe thead th {\n",
       "        text-align: right;\n",
       "    }\n",
       "</style>\n",
       "<table border=\"1\" class=\"dataframe\">\n",
       "  <thead>\n",
       "    <tr style=\"text-align: right;\">\n",
       "      <th></th>\n",
       "      <th>0</th>\n",
       "      <th>1</th>\n",
       "      <th>2</th>\n",
       "    </tr>\n",
       "  </thead>\n",
       "  <tbody>\n",
       "    <tr>\n",
       "      <th>0</th>\n",
       "      <td>48.200000</td>\n",
       "      <td>35.400000</td>\n",
       "      <td>69.800000</td>\n",
       "    </tr>\n",
       "    <tr>\n",
       "      <th>1</th>\n",
       "      <td>51.133333</td>\n",
       "      <td>51.133333</td>\n",
       "      <td>51.133333</td>\n",
       "    </tr>\n",
       "    <tr>\n",
       "      <th>2</th>\n",
       "      <td>-2.933333</td>\n",
       "      <td>-15.733333</td>\n",
       "      <td>18.666667</td>\n",
       "    </tr>\n",
       "    <tr>\n",
       "      <th>3</th>\n",
       "      <td>8.604444</td>\n",
       "      <td>247.537778</td>\n",
       "      <td>348.444444</td>\n",
       "    </tr>\n",
       "  </tbody>\n",
       "</table>\n",
       "</div>"
      ],
      "text/plain": [
       "           0           1           2\n",
       "0  48.200000   35.400000   69.800000\n",
       "1  51.133333   51.133333   51.133333\n",
       "2  -2.933333  -15.733333   18.666667\n",
       "3   8.604444  247.537778  348.444444"
      ]
     },
     "execution_count": 252,
     "metadata": {},
     "output_type": "execute_result"
    }
   ],
   "source": [
    "title=['mean','grandmean','deviation','square of Dev']\n",
    " \n",
    "df1= pd.DataFrame(lst1) \n",
    "df1"
   ]
  },
  {
   "cell_type": "code",
   "execution_count": 253,
   "metadata": {},
   "outputs": [],
   "source": [
    "df1=df1.transpose()"
   ]
  },
  {
   "cell_type": "code",
   "execution_count": 254,
   "metadata": {},
   "outputs": [],
   "source": [
    "df1.columns=title"
   ]
  },
  {
   "cell_type": "code",
   "execution_count": 255,
   "metadata": {},
   "outputs": [
    {
     "data": {
      "text/html": [
       "<div>\n",
       "<style scoped>\n",
       "    .dataframe tbody tr th:only-of-type {\n",
       "        vertical-align: middle;\n",
       "    }\n",
       "\n",
       "    .dataframe tbody tr th {\n",
       "        vertical-align: top;\n",
       "    }\n",
       "\n",
       "    .dataframe thead th {\n",
       "        text-align: right;\n",
       "    }\n",
       "</style>\n",
       "<table border=\"1\" class=\"dataframe\">\n",
       "  <thead>\n",
       "    <tr style=\"text-align: right;\">\n",
       "      <th></th>\n",
       "      <th>mean</th>\n",
       "      <th>grandmean</th>\n",
       "      <th>deviation</th>\n",
       "      <th>square of Dev</th>\n",
       "    </tr>\n",
       "  </thead>\n",
       "  <tbody>\n",
       "    <tr>\n",
       "      <th>0</th>\n",
       "      <td>48.2</td>\n",
       "      <td>51.133333</td>\n",
       "      <td>-2.933333</td>\n",
       "      <td>8.604444</td>\n",
       "    </tr>\n",
       "    <tr>\n",
       "      <th>1</th>\n",
       "      <td>35.4</td>\n",
       "      <td>51.133333</td>\n",
       "      <td>-15.733333</td>\n",
       "      <td>247.537778</td>\n",
       "    </tr>\n",
       "    <tr>\n",
       "      <th>2</th>\n",
       "      <td>69.8</td>\n",
       "      <td>51.133333</td>\n",
       "      <td>18.666667</td>\n",
       "      <td>348.444444</td>\n",
       "    </tr>\n",
       "  </tbody>\n",
       "</table>\n",
       "</div>"
      ],
      "text/plain": [
       "   mean  grandmean  deviation  square of Dev\n",
       "0  48.2  51.133333  -2.933333       8.604444\n",
       "1  35.4  51.133333 -15.733333     247.537778\n",
       "2  69.8  51.133333  18.666667     348.444444"
      ]
     },
     "execution_count": 255,
     "metadata": {},
     "output_type": "execute_result"
    }
   ],
   "source": [
    "df1"
   ]
  },
  {
   "cell_type": "code",
   "execution_count": 257,
   "metadata": {},
   "outputs": [
    {
     "data": {
      "text/plain": [
       "617.5288888888889"
      ]
     },
     "execution_count": 257,
     "metadata": {},
     "output_type": "execute_result"
    }
   ],
   "source": [
    "m"
   ]
  },
  {
   "cell_type": "code",
   "execution_count": 235,
   "metadata": {},
   "outputs": [
    {
     "data": {
      "text/plain": [
       "310.1333333333333"
      ]
     },
     "execution_count": 235,
     "metadata": {},
     "output_type": "execute_result"
    }
   ],
   "source": [
    "varmean=ssmeans/(3-1)\n",
    "varmean"
   ]
  },
  {
   "cell_type": "code",
   "execution_count": 236,
   "metadata": {},
   "outputs": [],
   "source": [
    "mean_square_within=varmean*5 #no of values in a group is 5"
   ]
  },
  {
   "cell_type": "code",
   "execution_count": 237,
   "metadata": {},
   "outputs": [],
   "source": [
    "deg_free=3-1 #3 groups-1"
   ]
  },
  {
   "cell_type": "code",
   "execution_count": 238,
   "metadata": {},
   "outputs": [
    {
     "data": {
      "text/plain": [
       "3101.333333333333"
      ]
     },
     "execution_count": 238,
     "metadata": {},
     "output_type": "execute_result"
    }
   ],
   "source": [
    "ss_group=mean_square_within*deg_free\n",
    "ss_group"
   ]
  },
  {
   "cell_type": "code",
   "execution_count": 263,
   "metadata": {},
   "outputs": [],
   "source": [
    "f_test=mean_square_within/mse"
   ]
  },
  {
   "cell_type": "code",
   "execution_count": 264,
   "metadata": {},
   "outputs": [
    {
     "data": {
      "text/plain": [
       "10.044334408106861"
      ]
     },
     "execution_count": 264,
     "metadata": {},
     "output_type": "execute_result"
    }
   ],
   "source": [
    "f_test"
   ]
  },
  {
   "cell_type": "markdown",
   "metadata": {},
   "source": [
    "f(critical)(dof-1,15-3)=(2,12) from F- table it is found to be 3.89 therefore, reject H0, accept H1"
   ]
  },
  {
   "cell_type": "markdown",
   "metadata": {},
   "source": [
    "# problem 3"
   ]
  },
  {
   "cell_type": "code",
   "execution_count": 270,
   "metadata": {},
   "outputs": [],
   "source": [
    "from statistics import stdev\n",
    "l1=[10,20,30,40,50]\n",
    "l2=[5,10,15, 20, 25]\n",
    "va=[]\n",
    "lst=[l1,l2]\n",
    "n=len(lst)\n",
    "for i in range(len(lst)):\n",
    "    mean=sum(lst[i])/n\n",
    "    sd=stdev(lst[i])\n",
    "    var=sd**2\n",
    "    va.append(var)\n"
   ]
  },
  {
   "cell_type": "code",
   "execution_count": 271,
   "metadata": {},
   "outputs": [
    {
     "data": {
      "text/plain": [
       "[250.0, 62.5]"
      ]
     },
     "execution_count": 271,
     "metadata": {},
     "output_type": "execute_result"
    }
   ],
   "source": [
    "va"
   ]
  },
  {
   "cell_type": "code",
   "execution_count": 272,
   "metadata": {},
   "outputs": [],
   "source": [
    "f_test=va[0]/va[1]"
   ]
  },
  {
   "cell_type": "code",
   "execution_count": 273,
   "metadata": {},
   "outputs": [
    {
     "data": {
      "text/plain": [
       "4.0"
      ]
     },
     "execution_count": 273,
     "metadata": {},
     "output_type": "execute_result"
    }
   ],
   "source": [
    "f_test"
   ]
  },
  {
   "cell_type": "code",
   "execution_count": null,
   "metadata": {},
   "outputs": [],
   "source": []
  }
 ],
 "metadata": {
  "kernelspec": {
   "display_name": "Python 3",
   "language": "python",
   "name": "python3"
  },
  "language_info": {
   "codemirror_mode": {
    "name": "ipython",
    "version": 3
   },
   "file_extension": ".py",
   "mimetype": "text/x-python",
   "name": "python",
   "nbconvert_exporter": "python",
   "pygments_lexer": "ipython3",
   "version": "3.7.1"
  }
 },
 "nbformat": 4,
 "nbformat_minor": 2
}
