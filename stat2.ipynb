{
 "cells": [
  {
   "cell_type": "markdown",
   "metadata": {},
   "source": [
    "# You survey households in your area to find the average rent they are paying. Find the\n",
    "standard deviation from the following data:\n",
    "$1550, $1700, $900, $850, $1000, $950."
   ]
  },
  {
   "cell_type": "code",
   "execution_count": 12,
   "metadata": {},
   "outputs": [
    {
     "name": "stdout",
     "output_type": "stream",
     "text": [
      "1550\n",
      "153402.77777777784\n",
      "1700\n",
      "446805.55555555574\n",
      "900\n",
      "513541.6666666668\n",
      "850\n",
      "608611.1111111112\n",
      "1000\n",
      "633680.5555555556\n",
      "950\n",
      "677083.3333333334\n",
      "the standard deviation of the [1550, 1700, 900, 850, 1000, 950] is 335.92740617910624\n"
     ]
    },
    {
     "data": {
      "text/plain": [
       "367.9900360969936"
      ]
     },
     "execution_count": 12,
     "metadata": {},
     "output_type": "execute_result"
    }
   ],
   "source": [
    "lst=[1550,1700,900,850,1000,950]\n",
    "mean=(1550+1700+900+850+1000+950)/len(lst)\n",
    "sum1=0\n",
    "for x in lst:\n",
    "    print(x)\n",
    "    sum1=sum1+(x-mean)**2\n",
    "    print(sum1)\n",
    "import math as m\n",
    "sd=m.sqrt(sum1/len(lst))\n",
    "print('the standard deviation of the {} is {}'.format(lst,sd))\n",
    "\n",
    "from statistics import stdev \n",
    "stdev(lst)\n",
    "    \n",
    "    \n",
    "    \n",
    "    \n",
    "    "
   ]
  },
  {
   "attachments": {
    "image.png": {
     "image/png": "[encoded data removed]"
    }
   },
   "cell_type": "markdown",
   "metadata": {},
   "source": [
    "![image.png](attachment:image.png)"
   ]
  },
  {
   "cell_type": "markdown",
   "metadata": {},
   "source": [
    "# Problem Statement 2:\n",
    "Find the variance for the following set of data representing trees in California (heights in\n",
    "feet):\n",
    "3, 21, 98, 203, 17, 9"
   ]
  },
  {
   "cell_type": "code",
   "execution_count": 20,
   "metadata": {},
   "outputs": [
    {
     "name": "stdout",
     "output_type": "stream",
     "text": [
      "the standard deviation of the [3, 21, 98, 203, 17, 9] is 5183.250000000001\n"
     ]
    },
    {
     "data": {
      "text/plain": [
       "6219.9"
      ]
     },
     "execution_count": 20,
     "metadata": {},
     "output_type": "execute_result"
    }
   ],
   "source": [
    "\n",
    "lst=[3,21,98,203,17,9]\n",
    "mean=(3+21+98+203+17+9)/len(lst)\n",
    "sum1=0\n",
    "for x in lst:\n",
    "    \n",
    "    sum1=sum1+(x-mean)**2\n",
    "    \n",
    "import math as m\n",
    "sd=m.sqrt(sum1/len(lst))**2\n",
    "print('the varianv=ce of the {} is {}'.format(lst,sd))\n",
    "\n",
    "from statistics import stdev \n",
    "stdev(lst)**2"
   ]
  },
  {
   "cell_type": "markdown",
   "metadata": {},
   "source": [
    "# Problem Statement 3:"
   ]
  },
  {
   "cell_type": "raw",
   "metadata": {},
   "source": [
    "In a class on 100 students, 80 students passed in all subjects, 10 failed in one subject, 7\n",
    "failed in two subjects and 3 failed in three subjects. Find the probability distribution of\n",
    "the variable for number of subjects a student from the given class has failed in."
   ]
  },
  {
   "cell_type": "code",
   "execution_count": 21,
   "metadata": {},
   "outputs": [
    {
     "name": "stdout",
     "output_type": "stream",
     "text": [
      "0.8\n",
      "0.1\n",
      "0.07\n",
      "0.03\n"
     ]
    }
   ],
   "source": [
    "data = [80,10,7,3]\n",
    "sample= 100\n",
    "\n",
    "       \n",
    "    \n",
    "\n",
    "for i in data:\n",
    "    prob = (i/ sample)\n",
    "    print(prob)"
   ]
  },
  {
   "cell_type": "code",
   "execution_count": null,
   "metadata": {},
   "outputs": [],
   "source": []
  }
 ],
 "metadata": {
  "kernelspec": {
   "display_name": "Python 3",
   "language": "python",
   "name": "python3"
  },
  "language_info": {
   "codemirror_mode": {
    "name": "ipython",
    "version": 3
   },
   "file_extension": ".py",
   "mimetype": "text/x-python",
   "name": "python",
   "nbconvert_exporter": "python",
   "pygments_lexer": "ipython3",
   "version": "3.7.1"
  }
 },
 "nbformat": 4,
 "nbformat_minor": 2
}
