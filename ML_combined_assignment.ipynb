{
 "cells": [
  {
   "cell_type": "code",
   "execution_count": 1,
   "metadata": {},
   "outputs": [],
   "source": [
    "import numpy as np # linear algebra\n",
    "import pandas as pd # data processing, CSV file I/O (e.g. pd.read_csv)\n",
    "import sqlite3\n",
    "import matplotlib.pyplot as plt\n",
    "\n",
    "# Input data files are available in the \"../input/\" directory.\n",
    "# For example, running this (by clicking run or pressing Shift+Enter) will list the files in the input directory\n",
    "\n",
    "database = 'database.sqlite'"
   ]
  },
  {
   "cell_type": "code",
   "execution_count": 2,
   "metadata": {},
   "outputs": [
    {
     "name": "stdout",
     "output_type": "stream",
     "text": [
      "                name\n",
      "0    sqlite_sequence\n",
      "1  Player_Attributes\n",
      "2             Player\n",
      "3              Match\n",
      "4             League\n",
      "5            Country\n",
      "6               Team\n",
      "7    Team_Attributes\n"
     ]
    }
   ],
   "source": [
    "conn = sqlite3.connect(database)\n",
    "\n",
    "dd = pd.read_sql_query(\"SELECT name FROM sqlite_master WHERE type='table'\", conn)\n",
    "print(dd)"
   ]
  },
  {
   "cell_type": "code",
   "execution_count": 3,
   "metadata": {},
   "outputs": [],
   "source": [
    "#player_data = pd.read_sql(\"SELECT * FROM Player;\", conn)\n",
    "player_stats_data = pd.read_sql(\"SELECT * FROM Player_Attributes;\", conn)"
   ]
  },
  {
   "cell_type": "code",
   "execution_count": 4,
   "metadata": {},
   "outputs": [
    {
     "data": {
      "text/html": [
       "<div>\n",
       "<style scoped>\n",
       "    .dataframe tbody tr th:only-of-type {\n",
       "        vertical-align: middle;\n",
       "    }\n",
       "\n",
       "    .dataframe tbody tr th {\n",
       "        vertical-align: top;\n",
       "    }\n",
       "\n",
       "    .dataframe thead th {\n",
       "        text-align: right;\n",
       "    }\n",
       "</style>\n",
       "<table border=\"1\" class=\"dataframe\">\n",
       "  <thead>\n",
       "    <tr style=\"text-align: right;\">\n",
       "      <th></th>\n",
       "      <th>id</th>\n",
       "      <th>name</th>\n",
       "    </tr>\n",
       "  </thead>\n",
       "  <tbody>\n",
       "    <tr>\n",
       "      <th>0</th>\n",
       "      <td>1</td>\n",
       "      <td>Belgium</td>\n",
       "    </tr>\n",
       "    <tr>\n",
       "      <th>1</th>\n",
       "      <td>1729</td>\n",
       "      <td>England</td>\n",
       "    </tr>\n",
       "    <tr>\n",
       "      <th>2</th>\n",
       "      <td>4769</td>\n",
       "      <td>France</td>\n",
       "    </tr>\n",
       "    <tr>\n",
       "      <th>3</th>\n",
       "      <td>7809</td>\n",
       "      <td>Germany</td>\n",
       "    </tr>\n",
       "    <tr>\n",
       "      <th>4</th>\n",
       "      <td>10257</td>\n",
       "      <td>Italy</td>\n",
       "    </tr>\n",
       "    <tr>\n",
       "      <th>5</th>\n",
       "      <td>13274</td>\n",
       "      <td>Netherlands</td>\n",
       "    </tr>\n",
       "    <tr>\n",
       "      <th>6</th>\n",
       "      <td>15722</td>\n",
       "      <td>Poland</td>\n",
       "    </tr>\n",
       "    <tr>\n",
       "      <th>7</th>\n",
       "      <td>17642</td>\n",
       "      <td>Portugal</td>\n",
       "    </tr>\n",
       "    <tr>\n",
       "      <th>8</th>\n",
       "      <td>19694</td>\n",
       "      <td>Scotland</td>\n",
       "    </tr>\n",
       "    <tr>\n",
       "      <th>9</th>\n",
       "      <td>21518</td>\n",
       "      <td>Spain</td>\n",
       "    </tr>\n",
       "    <tr>\n",
       "      <th>10</th>\n",
       "      <td>24558</td>\n",
       "      <td>Switzerland</td>\n",
       "    </tr>\n",
       "  </tbody>\n",
       "</table>\n",
       "</div>"
      ],
      "text/plain": [
       "       id         name\n",
       "0       1      Belgium\n",
       "1    1729      England\n",
       "2    4769       France\n",
       "3    7809      Germany\n",
       "4   10257        Italy\n",
       "5   13274  Netherlands\n",
       "6   15722       Poland\n",
       "7   17642     Portugal\n",
       "8   19694     Scotland\n",
       "9   21518        Spain\n",
       "10  24558  Switzerland"
      ]
     },
     "execution_count": 4,
     "metadata": {},
     "output_type": "execute_result"
    }
   ],
   "source": [
    "countries = pd.read_sql(\"\"\"SELECT *\n",
    "                        FROM Country;\"\"\", conn)\n",
    "countries"
   ]
  },
  {
   "cell_type": "code",
   "execution_count": 5,
   "metadata": {},
   "outputs": [
    {
     "data": {
      "text/html": [
       "<div>\n",
       "<style scoped>\n",
       "    .dataframe tbody tr th:only-of-type {\n",
       "        vertical-align: middle;\n",
       "    }\n",
       "\n",
       "    .dataframe tbody tr th {\n",
       "        vertical-align: top;\n",
       "    }\n",
       "\n",
       "    .dataframe thead th {\n",
       "        text-align: right;\n",
       "    }\n",
       "</style>\n",
       "<table border=\"1\" class=\"dataframe\">\n",
       "  <thead>\n",
       "    <tr style=\"text-align: right;\">\n",
       "      <th></th>\n",
       "      <th>id</th>\n",
       "      <th>country_id</th>\n",
       "      <th>name</th>\n",
       "      <th>id</th>\n",
       "      <th>name</th>\n",
       "    </tr>\n",
       "  </thead>\n",
       "  <tbody>\n",
       "    <tr>\n",
       "      <th>0</th>\n",
       "      <td>1</td>\n",
       "      <td>1</td>\n",
       "      <td>Belgium Jupiler League</td>\n",
       "      <td>1</td>\n",
       "      <td>Belgium</td>\n",
       "    </tr>\n",
       "    <tr>\n",
       "      <th>1</th>\n",
       "      <td>1729</td>\n",
       "      <td>1729</td>\n",
       "      <td>England Premier League</td>\n",
       "      <td>1729</td>\n",
       "      <td>England</td>\n",
       "    </tr>\n",
       "    <tr>\n",
       "      <th>2</th>\n",
       "      <td>4769</td>\n",
       "      <td>4769</td>\n",
       "      <td>France Ligue 1</td>\n",
       "      <td>4769</td>\n",
       "      <td>France</td>\n",
       "    </tr>\n",
       "    <tr>\n",
       "      <th>3</th>\n",
       "      <td>7809</td>\n",
       "      <td>7809</td>\n",
       "      <td>Germany 1. Bundesliga</td>\n",
       "      <td>7809</td>\n",
       "      <td>Germany</td>\n",
       "    </tr>\n",
       "    <tr>\n",
       "      <th>4</th>\n",
       "      <td>10257</td>\n",
       "      <td>10257</td>\n",
       "      <td>Italy Serie A</td>\n",
       "      <td>10257</td>\n",
       "      <td>Italy</td>\n",
       "    </tr>\n",
       "    <tr>\n",
       "      <th>5</th>\n",
       "      <td>13274</td>\n",
       "      <td>13274</td>\n",
       "      <td>Netherlands Eredivisie</td>\n",
       "      <td>13274</td>\n",
       "      <td>Netherlands</td>\n",
       "    </tr>\n",
       "    <tr>\n",
       "      <th>6</th>\n",
       "      <td>15722</td>\n",
       "      <td>15722</td>\n",
       "      <td>Poland Ekstraklasa</td>\n",
       "      <td>15722</td>\n",
       "      <td>Poland</td>\n",
       "    </tr>\n",
       "    <tr>\n",
       "      <th>7</th>\n",
       "      <td>17642</td>\n",
       "      <td>17642</td>\n",
       "      <td>Portugal Liga ZON Sagres</td>\n",
       "      <td>17642</td>\n",
       "      <td>Portugal</td>\n",
       "    </tr>\n",
       "    <tr>\n",
       "      <th>8</th>\n",
       "      <td>19694</td>\n",
       "      <td>19694</td>\n",
       "      <td>Scotland Premier League</td>\n",
       "      <td>19694</td>\n",
       "      <td>Scotland</td>\n",
       "    </tr>\n",
       "    <tr>\n",
       "      <th>9</th>\n",
       "      <td>21518</td>\n",
       "      <td>21518</td>\n",
       "      <td>Spain LIGA BBVA</td>\n",
       "      <td>21518</td>\n",
       "      <td>Spain</td>\n",
       "    </tr>\n",
       "    <tr>\n",
       "      <th>10</th>\n",
       "      <td>24558</td>\n",
       "      <td>24558</td>\n",
       "      <td>Switzerland Super League</td>\n",
       "      <td>24558</td>\n",
       "      <td>Switzerland</td>\n",
       "    </tr>\n",
       "  </tbody>\n",
       "</table>\n",
       "</div>"
      ],
      "text/plain": [
       "       id  country_id                      name     id         name\n",
       "0       1           1    Belgium Jupiler League      1      Belgium\n",
       "1    1729        1729    England Premier League   1729      England\n",
       "2    4769        4769            France Ligue 1   4769       France\n",
       "3    7809        7809     Germany 1. Bundesliga   7809      Germany\n",
       "4   10257       10257             Italy Serie A  10257        Italy\n",
       "5   13274       13274    Netherlands Eredivisie  13274  Netherlands\n",
       "6   15722       15722        Poland Ekstraklasa  15722       Poland\n",
       "7   17642       17642  Portugal Liga ZON Sagres  17642     Portugal\n",
       "8   19694       19694   Scotland Premier League  19694     Scotland\n",
       "9   21518       21518           Spain LIGA BBVA  21518        Spain\n",
       "10  24558       24558  Switzerland Super League  24558  Switzerland"
      ]
     },
     "execution_count": 5,
     "metadata": {},
     "output_type": "execute_result"
    }
   ],
   "source": [
    "leagues = pd.read_sql(\"\"\"SELECT *\n",
    "                        FROM League\n",
    "                        JOIN Country ON Country.id = League.country_id;\"\"\", conn)\n",
    "leagues"
   ]
  },
  {
   "cell_type": "code",
   "execution_count": 6,
   "metadata": {},
   "outputs": [
    {
     "data": {
      "text/html": [
       "<div>\n",
       "<style scoped>\n",
       "    .dataframe tbody tr th:only-of-type {\n",
       "        vertical-align: middle;\n",
       "    }\n",
       "\n",
       "    .dataframe tbody tr th {\n",
       "        vertical-align: top;\n",
       "    }\n",
       "\n",
       "    .dataframe thead th {\n",
       "        text-align: right;\n",
       "    }\n",
       "</style>\n",
       "<table border=\"1\" class=\"dataframe\">\n",
       "  <thead>\n",
       "    <tr style=\"text-align: right;\">\n",
       "      <th></th>\n",
       "      <th>id</th>\n",
       "      <th>player_fifa_api_id</th>\n",
       "      <th>player_api_id</th>\n",
       "      <th>date</th>\n",
       "      <th>overall_rating</th>\n",
       "      <th>potential</th>\n",
       "      <th>preferred_foot</th>\n",
       "      <th>attacking_work_rate</th>\n",
       "      <th>defensive_work_rate</th>\n",
       "      <th>crossing</th>\n",
       "      <th>...</th>\n",
       "      <th>vision</th>\n",
       "      <th>penalties</th>\n",
       "      <th>marking</th>\n",
       "      <th>standing_tackle</th>\n",
       "      <th>sliding_tackle</th>\n",
       "      <th>gk_diving</th>\n",
       "      <th>gk_handling</th>\n",
       "      <th>gk_kicking</th>\n",
       "      <th>gk_positioning</th>\n",
       "      <th>gk_reflexes</th>\n",
       "    </tr>\n",
       "  </thead>\n",
       "  <tbody>\n",
       "    <tr>\n",
       "      <th>0</th>\n",
       "      <td>1</td>\n",
       "      <td>218353</td>\n",
       "      <td>505942</td>\n",
       "      <td>2016-02-18 00:00:00</td>\n",
       "      <td>67.0</td>\n",
       "      <td>71.0</td>\n",
       "      <td>right</td>\n",
       "      <td>medium</td>\n",
       "      <td>medium</td>\n",
       "      <td>49.0</td>\n",
       "      <td>...</td>\n",
       "      <td>54.0</td>\n",
       "      <td>48.0</td>\n",
       "      <td>65.0</td>\n",
       "      <td>69.0</td>\n",
       "      <td>69.0</td>\n",
       "      <td>6.0</td>\n",
       "      <td>11.0</td>\n",
       "      <td>10.0</td>\n",
       "      <td>8.0</td>\n",
       "      <td>8.0</td>\n",
       "    </tr>\n",
       "    <tr>\n",
       "      <th>1</th>\n",
       "      <td>2</td>\n",
       "      <td>218353</td>\n",
       "      <td>505942</td>\n",
       "      <td>2015-11-19 00:00:00</td>\n",
       "      <td>67.0</td>\n",
       "      <td>71.0</td>\n",
       "      <td>right</td>\n",
       "      <td>medium</td>\n",
       "      <td>medium</td>\n",
       "      <td>49.0</td>\n",
       "      <td>...</td>\n",
       "      <td>54.0</td>\n",
       "      <td>48.0</td>\n",
       "      <td>65.0</td>\n",
       "      <td>69.0</td>\n",
       "      <td>69.0</td>\n",
       "      <td>6.0</td>\n",
       "      <td>11.0</td>\n",
       "      <td>10.0</td>\n",
       "      <td>8.0</td>\n",
       "      <td>8.0</td>\n",
       "    </tr>\n",
       "    <tr>\n",
       "      <th>2</th>\n",
       "      <td>3</td>\n",
       "      <td>218353</td>\n",
       "      <td>505942</td>\n",
       "      <td>2015-09-21 00:00:00</td>\n",
       "      <td>62.0</td>\n",
       "      <td>66.0</td>\n",
       "      <td>right</td>\n",
       "      <td>medium</td>\n",
       "      <td>medium</td>\n",
       "      <td>49.0</td>\n",
       "      <td>...</td>\n",
       "      <td>54.0</td>\n",
       "      <td>48.0</td>\n",
       "      <td>65.0</td>\n",
       "      <td>66.0</td>\n",
       "      <td>69.0</td>\n",
       "      <td>6.0</td>\n",
       "      <td>11.0</td>\n",
       "      <td>10.0</td>\n",
       "      <td>8.0</td>\n",
       "      <td>8.0</td>\n",
       "    </tr>\n",
       "    <tr>\n",
       "      <th>3</th>\n",
       "      <td>4</td>\n",
       "      <td>218353</td>\n",
       "      <td>505942</td>\n",
       "      <td>2015-03-20 00:00:00</td>\n",
       "      <td>61.0</td>\n",
       "      <td>65.0</td>\n",
       "      <td>right</td>\n",
       "      <td>medium</td>\n",
       "      <td>medium</td>\n",
       "      <td>48.0</td>\n",
       "      <td>...</td>\n",
       "      <td>53.0</td>\n",
       "      <td>47.0</td>\n",
       "      <td>62.0</td>\n",
       "      <td>63.0</td>\n",
       "      <td>66.0</td>\n",
       "      <td>5.0</td>\n",
       "      <td>10.0</td>\n",
       "      <td>9.0</td>\n",
       "      <td>7.0</td>\n",
       "      <td>7.0</td>\n",
       "    </tr>\n",
       "    <tr>\n",
       "      <th>4</th>\n",
       "      <td>5</td>\n",
       "      <td>218353</td>\n",
       "      <td>505942</td>\n",
       "      <td>2007-02-22 00:00:00</td>\n",
       "      <td>61.0</td>\n",
       "      <td>65.0</td>\n",
       "      <td>right</td>\n",
       "      <td>medium</td>\n",
       "      <td>medium</td>\n",
       "      <td>48.0</td>\n",
       "      <td>...</td>\n",
       "      <td>53.0</td>\n",
       "      <td>47.0</td>\n",
       "      <td>62.0</td>\n",
       "      <td>63.0</td>\n",
       "      <td>66.0</td>\n",
       "      <td>5.0</td>\n",
       "      <td>10.0</td>\n",
       "      <td>9.0</td>\n",
       "      <td>7.0</td>\n",
       "      <td>7.0</td>\n",
       "    </tr>\n",
       "  </tbody>\n",
       "</table>\n",
       "<p>5 rows × 42 columns</p>\n",
       "</div>"
      ],
      "text/plain": [
       "   id  player_fifa_api_id  player_api_id                 date  overall_rating  \\\n",
       "0   1              218353         505942  2016-02-18 00:00:00            67.0   \n",
       "1   2              218353         505942  2015-11-19 00:00:00            67.0   \n",
       "2   3              218353         505942  2015-09-21 00:00:00            62.0   \n",
       "3   4              218353         505942  2015-03-20 00:00:00            61.0   \n",
       "4   5              218353         505942  2007-02-22 00:00:00            61.0   \n",
       "\n",
       "   potential preferred_foot attacking_work_rate defensive_work_rate  crossing  \\\n",
       "0       71.0          right              medium              medium      49.0   \n",
       "1       71.0          right              medium              medium      49.0   \n",
       "2       66.0          right              medium              medium      49.0   \n",
       "3       65.0          right              medium              medium      48.0   \n",
       "4       65.0          right              medium              medium      48.0   \n",
       "\n",
       "      ...       vision  penalties  marking  standing_tackle  sliding_tackle  \\\n",
       "0     ...         54.0       48.0     65.0             69.0            69.0   \n",
       "1     ...         54.0       48.0     65.0             69.0            69.0   \n",
       "2     ...         54.0       48.0     65.0             66.0            69.0   \n",
       "3     ...         53.0       47.0     62.0             63.0            66.0   \n",
       "4     ...         53.0       47.0     62.0             63.0            66.0   \n",
       "\n",
       "   gk_diving  gk_handling  gk_kicking  gk_positioning  gk_reflexes  \n",
       "0        6.0         11.0        10.0             8.0          8.0  \n",
       "1        6.0         11.0        10.0             8.0          8.0  \n",
       "2        6.0         11.0        10.0             8.0          8.0  \n",
       "3        5.0         10.0         9.0             7.0          7.0  \n",
       "4        5.0         10.0         9.0             7.0          7.0  \n",
       "\n",
       "[5 rows x 42 columns]"
      ]
     },
     "execution_count": 6,
     "metadata": {},
     "output_type": "execute_result"
    }
   ],
   "source": [
    "df=pd.read_sql_query(\"SELECT * FROM Player_Attributes\", conn)\n",
    "df.head()"
   ]
  },
  {
   "cell_type": "code",
   "execution_count": 7,
   "metadata": {},
   "outputs": [],
   "source": [
    "%matplotlib notebook\n",
    "import matplotlib.pyplot as plt\n",
    "import xgboost as xgb\n",
    "from xgboost.sklearn import XGBRegressor\n",
    "from xgboost import plot_importance\n",
    "\n",
    "from sklearn.linear_model import LinearRegression\n",
    "from sklearn.tree import DecisionTreeRegressor\n",
    "from sklearn.ensemble import RandomForestRegressor\n",
    "from sklearn.preprocessing import Imputer, StandardScaler\n",
    "from sklearn.feature_selection import SelectFromModel\n",
    "from sklearn.model_selection import train_test_split, GridSearchCV, ShuffleSplit, RandomizedSearchCV\n",
    "from sklearn.pipeline import make_pipeline\n",
    "\n",
    "import pickle"
   ]
  },
  {
   "cell_type": "code",
   "execution_count": 8,
   "metadata": {},
   "outputs": [],
   "source": [
    "target = df.pop('overall_rating')"
   ]
  },
  {
   "cell_type": "code",
   "execution_count": 82,
   "metadata": {},
   "outputs": [
    {
     "data": {
      "text/plain": [
       "836"
      ]
     },
     "execution_count": 82,
     "metadata": {},
     "output_type": "execute_result"
    }
   ],
   "source": [
    "\n",
    "target.isnull().values.sum()"
   ]
  },
  {
   "cell_type": "code",
   "execution_count": 83,
   "metadata": {},
   "outputs": [
    {
     "data": {
      "application/javascript": [
       "/* Put everything inside the global mpl namespace */\n",
       "window.mpl = {};\n",
       "\n",
       "\n",
       "mpl.get_websocket_type = function() {\n",
       "    if (typeof(WebSocket) !== 'undefined') {\n",
       "        return WebSocket;\n",
       "    } else if (typeof(MozWebSocket) !== 'undefined') {\n",
       "        return MozWebSocket;\n",
       "    } else {\n",
       "        alert('Your browser does not have WebSocket support.' +\n",
       "              'Please try Chrome, Safari or Firefox ≥ 6. ' +\n",
       "              'Firefox 4 and 5 are also supported but you ' +\n",
       "              'have to enable WebSockets in about:config.');\n",
       "    };\n",
       "}\n",
       "\n",
       "mpl.figure = function(figure_id, websocket, ondownload, parent_element) {\n",
       "    this.id = figure_id;\n",
       "\n",
       "    this.ws = websocket;\n",
       "\n",
       "    this.supports_binary = (this.ws.binaryType != undefined);\n",
       "\n",
       "    if (!this.supports_binary) {\n",
       "        var warnings = document.getElementById(\"mpl-warnings\");\n",
       "        if (warnings) {\n",
       "            warnings.style.display = 'block';\n",
       "            warnings.textContent = (\n",
       "                \"This browser does not support binary websocket messages. \" +\n",
       "                    \"Performance may be slow.\");\n",
       "        }\n",
       "    }\n",
       "\n",
       "    this.imageObj = new Image();\n",
       "\n",
       "    this.context = undefined;\n",
       "    this.message = undefined;\n",
       "    this.canvas = undefined;\n",
       "    this.rubberband_canvas = undefined;\n",
       "    this.rubberband_context = undefined;\n",
       "    this.format_dropdown = undefined;\n",
       "\n",
       "    this.image_mode = 'full';\n",
       "\n",
       "    this.root = $('<div/>');\n",
       "    this._root_extra_style(this.root)\n",
       "    this.root.attr('style', 'display: inline-block');\n",
       "\n",
       "    $(parent_element).append(this.root);\n",
       "\n",
       "    this._init_header(this);\n",
       "    this._init_canvas(this);\n",
       "    this._init_toolbar(this);\n",
       "\n",
       "    var fig = this;\n",
       "\n",
       "    this.waiting = false;\n",
       "\n",
       "    this.ws.onopen =  function () {\n",
       "            fig.send_message(\"supports_binary\", {value: fig.supports_binary});\n",
       "            fig.send_message(\"send_image_mode\", {});\n",
       "            if (mpl.ratio != 1) {\n",
       "                fig.send_message(\"set_dpi_ratio\", {'dpi_ratio': mpl.ratio});\n",
       "            }\n",
       "            fig.send_message(\"refresh\", {});\n",
       "        }\n",
       "\n",
       "    this.imageObj.onload = function() {\n",
       "            if (fig.image_mode == 'full') {\n",
       "                // Full images could contain transparency (where diff images\n",
       "                // almost always do), so we need to clear the canvas so that\n",
       "                // there is no ghosting.\n",
       "                fig.context.clearRect(0, 0, fig.canvas.width, fig.canvas.height);\n",
       "            }\n",
       "            fig.context.drawImage(fig.imageObj, 0, 0);\n",
       "        };\n",
       "\n",
       "    this.imageObj.onunload = function() {\n",
       "        fig.ws.close();\n",
       "    }\n",
       "\n",
       "    this.ws.onmessage = this._make_on_message_function(this);\n",
       "\n",
       "    this.ondownload = ondownload;\n",
       "}\n",
       "\n",
       "mpl.figure.prototype._init_header = function() {\n",
       "    var titlebar = $(\n",
       "        '<div class=\"ui-dialog-titlebar ui-widget-header ui-corner-all ' +\n",
       "        'ui-helper-clearfix\"/>');\n",
       "    var titletext = $(\n",
       "        '<div class=\"ui-dialog-title\" style=\"width: 100%; ' +\n",
       "        'text-align: center; padding: 3px;\"/>');\n",
       "    titlebar.append(titletext)\n",
       "    this.root.append(titlebar);\n",
       "    this.header = titletext[0];\n",
       "}\n",
       "\n",
       "\n",
       "\n",
       "mpl.figure.prototype._canvas_extra_style = function(canvas_div) {\n",
       "\n",
       "}\n",
       "\n",
       "\n",
       "mpl.figure.prototype._root_extra_style = function(canvas_div) {\n",
       "\n",
       "}\n",
       "\n",
       "mpl.figure.prototype._init_canvas = function() {\n",
       "    var fig = this;\n",
       "\n",
       "    var canvas_div = $('<div/>');\n",
       "\n",
       "    canvas_div.attr('style', 'position: relative; clear: both; outline: 0');\n",
       "\n",
       "    function canvas_keyboard_event(event) {\n",
       "        return fig.key_event(event, event['data']);\n",
       "    }\n",
       "\n",
       "    canvas_div.keydown('key_press', canvas_keyboard_event);\n",
       "    canvas_div.keyup('key_release', canvas_keyboard_event);\n",
       "    this.canvas_div = canvas_div\n",
       "    this._canvas_extra_style(canvas_div)\n",
       "    this.root.append(canvas_div);\n",
       "\n",
       "    var canvas = $('<canvas/>');\n",
       "    canvas.addClass('mpl-canvas');\n",
       "    canvas.attr('style', \"left: 0; top: 0; z-index: 0; outline: 0\")\n",
       "\n",
       "    this.canvas = canvas[0];\n",
       "    this.context = canvas[0].getContext(\"2d\");\n",
       "\n",
       "    var backingStore = this.context.backingStorePixelRatio ||\n",
       "\tthis.context.webkitBackingStorePixelRatio ||\n",
       "\tthis.context.mozBackingStorePixelRatio ||\n",
       "\tthis.context.msBackingStorePixelRatio ||\n",
       "\tthis.context.oBackingStorePixelRatio ||\n",
       "\tthis.context.backingStorePixelRatio || 1;\n",
       "\n",
       "    mpl.ratio = (window.devicePixelRatio || 1) / backingStore;\n",
       "\n",
       "    var rubberband = $('<canvas/>');\n",
       "    rubberband.attr('style', \"position: absolute; left: 0; top: 0; z-index: 1;\")\n",
       "\n",
       "    var pass_mouse_events = true;\n",
       "\n",
       "    canvas_div.resizable({\n",
       "        start: function(event, ui) {\n",
       "            pass_mouse_events = false;\n",
       "        },\n",
       "        resize: function(event, ui) {\n",
       "            fig.request_resize(ui.size.width, ui.size.height);\n",
       "        },\n",
       "        stop: function(event, ui) {\n",
       "            pass_mouse_events = true;\n",
       "            fig.request_resize(ui.size.width, ui.size.height);\n",
       "        },\n",
       "    });\n",
       "\n",
       "    function mouse_event_fn(event) {\n",
       "        if (pass_mouse_events)\n",
       "            return fig.mouse_event(event, event['data']);\n",
       "    }\n",
       "\n",
       "    rubberband.mousedown('button_press', mouse_event_fn);\n",
       "    rubberband.mouseup('button_release', mouse_event_fn);\n",
       "    // Throttle sequential mouse events to 1 every 20ms.\n",
       "    rubberband.mousemove('motion_notify', mouse_event_fn);\n",
       "\n",
       "    rubberband.mouseenter('figure_enter', mouse_event_fn);\n",
       "    rubberband.mouseleave('figure_leave', mouse_event_fn);\n",
       "\n",
       "    canvas_div.on(\"wheel\", function (event) {\n",
       "        event = event.originalEvent;\n",
       "        event['data'] = 'scroll'\n",
       "        if (event.deltaY < 0) {\n",
       "            event.step = 1;\n",
       "        } else {\n",
       "            event.step = -1;\n",
       "        }\n",
       "        mouse_event_fn(event);\n",
       "    });\n",
       "\n",
       "    canvas_div.append(canvas);\n",
       "    canvas_div.append(rubberband);\n",
       "\n",
       "    this.rubberband = rubberband;\n",
       "    this.rubberband_canvas = rubberband[0];\n",
       "    this.rubberband_context = rubberband[0].getContext(\"2d\");\n",
       "    this.rubberband_context.strokeStyle = \"#000000\";\n",
       "\n",
       "    this._resize_canvas = function(width, height) {\n",
       "        // Keep the size of the canvas, canvas container, and rubber band\n",
       "        // canvas in synch.\n",
       "        canvas_div.css('width', width)\n",
       "        canvas_div.css('height', height)\n",
       "\n",
       "        canvas.attr('width', width * mpl.ratio);\n",
       "        canvas.attr('height', height * mpl.ratio);\n",
       "        canvas.attr('style', 'width: ' + width + 'px; height: ' + height + 'px;');\n",
       "\n",
       "        rubberband.attr('width', width);\n",
       "        rubberband.attr('height', height);\n",
       "    }\n",
       "\n",
       "    // Set the figure to an initial 600x600px, this will subsequently be updated\n",
       "    // upon first draw.\n",
       "    this._resize_canvas(600, 600);\n",
       "\n",
       "    // Disable right mouse context menu.\n",
       "    $(this.rubberband_canvas).bind(\"contextmenu\",function(e){\n",
       "        return false;\n",
       "    });\n",
       "\n",
       "    function set_focus () {\n",
       "        canvas.focus();\n",
       "        canvas_div.focus();\n",
       "    }\n",
       "\n",
       "    window.setTimeout(set_focus, 100);\n",
       "}\n",
       "\n",
       "mpl.figure.prototype._init_toolbar = function() {\n",
       "    var fig = this;\n",
       "\n",
       "    var nav_element = $('<div/>')\n",
       "    nav_element.attr('style', 'width: 100%');\n",
       "    this.root.append(nav_element);\n",
       "\n",
       "    // Define a callback function for later on.\n",
       "    function toolbar_event(event) {\n",
       "        return fig.toolbar_button_onclick(event['data']);\n",
       "    }\n",
       "    function toolbar_mouse_event(event) {\n",
       "        return fig.toolbar_button_onmouseover(event['data']);\n",
       "    }\n",
       "\n",
       "    for(var toolbar_ind in mpl.toolbar_items) {\n",
       "        var name = mpl.toolbar_items[toolbar_ind][0];\n",
       "        var tooltip = mpl.toolbar_items[toolbar_ind][1];\n",
       "        var image = mpl.toolbar_items[toolbar_ind][2];\n",
       "        var method_name = mpl.toolbar_items[toolbar_ind][3];\n",
       "\n",
       "        if (!name) {\n",
       "            // put a spacer in here.\n",
       "            continue;\n",
       "        }\n",
       "        var button = $('<button/>');\n",
       "        button.addClass('ui-button ui-widget ui-state-default ui-corner-all ' +\n",
       "                        'ui-button-icon-only');\n",
       "        button.attr('role', 'button');\n",
       "        button.attr('aria-disabled', 'false');\n",
       "        button.click(method_name, toolbar_event);\n",
       "        button.mouseover(tooltip, toolbar_mouse_event);\n",
       "\n",
       "        var icon_img = $('<span/>');\n",
       "        icon_img.addClass('ui-button-icon-primary ui-icon');\n",
       "        icon_img.addClass(image);\n",
       "        icon_img.addClass('ui-corner-all');\n",
       "\n",
       "        var tooltip_span = $('<span/>');\n",
       "        tooltip_span.addClass('ui-button-text');\n",
       "        tooltip_span.html(tooltip);\n",
       "\n",
       "        button.append(icon_img);\n",
       "        button.append(tooltip_span);\n",
       "\n",
       "        nav_element.append(button);\n",
       "    }\n",
       "\n",
       "    var fmt_picker_span = $('<span/>');\n",
       "\n",
       "    var fmt_picker = $('<select/>');\n",
       "    fmt_picker.addClass('mpl-toolbar-option ui-widget ui-widget-content');\n",
       "    fmt_picker_span.append(fmt_picker);\n",
       "    nav_element.append(fmt_picker_span);\n",
       "    this.format_dropdown = fmt_picker[0];\n",
       "\n",
       "    for (var ind in mpl.extensions) {\n",
       "        var fmt = mpl.extensions[ind];\n",
       "        var option = $(\n",
       "            '<option/>', {selected: fmt === mpl.default_extension}).html(fmt);\n",
       "        fmt_picker.append(option)\n",
       "    }\n",
       "\n",
       "    // Add hover states to the ui-buttons\n",
       "    $( \".ui-button\" ).hover(\n",
       "        function() { $(this).addClass(\"ui-state-hover\");},\n",
       "        function() { $(this).removeClass(\"ui-state-hover\");}\n",
       "    );\n",
       "\n",
       "    var status_bar = $('<span class=\"mpl-message\"/>');\n",
       "    nav_element.append(status_bar);\n",
       "    this.message = status_bar[0];\n",
       "}\n",
       "\n",
       "mpl.figure.prototype.request_resize = function(x_pixels, y_pixels) {\n",
       "    // Request matplotlib to resize the figure. Matplotlib will then trigger a resize in the client,\n",
       "    // which will in turn request a refresh of the image.\n",
       "    this.send_message('resize', {'width': x_pixels, 'height': y_pixels});\n",
       "}\n",
       "\n",
       "mpl.figure.prototype.send_message = function(type, properties) {\n",
       "    properties['type'] = type;\n",
       "    properties['figure_id'] = this.id;\n",
       "    this.ws.send(JSON.stringify(properties));\n",
       "}\n",
       "\n",
       "mpl.figure.prototype.send_draw_message = function() {\n",
       "    if (!this.waiting) {\n",
       "        this.waiting = true;\n",
       "        this.ws.send(JSON.stringify({type: \"draw\", figure_id: this.id}));\n",
       "    }\n",
       "}\n",
       "\n",
       "\n",
       "mpl.figure.prototype.handle_save = function(fig, msg) {\n",
       "    var format_dropdown = fig.format_dropdown;\n",
       "    var format = format_dropdown.options[format_dropdown.selectedIndex].value;\n",
       "    fig.ondownload(fig, format);\n",
       "}\n",
       "\n",
       "\n",
       "mpl.figure.prototype.handle_resize = function(fig, msg) {\n",
       "    var size = msg['size'];\n",
       "    if (size[0] != fig.canvas.width || size[1] != fig.canvas.height) {\n",
       "        fig._resize_canvas(size[0], size[1]);\n",
       "        fig.send_message(\"refresh\", {});\n",
       "    };\n",
       "}\n",
       "\n",
       "mpl.figure.prototype.handle_rubberband = function(fig, msg) {\n",
       "    var x0 = msg['x0'] / mpl.ratio;\n",
       "    var y0 = (fig.canvas.height - msg['y0']) / mpl.ratio;\n",
       "    var x1 = msg['x1'] / mpl.ratio;\n",
       "    var y1 = (fig.canvas.height - msg['y1']) / mpl.ratio;\n",
       "    x0 = Math.floor(x0) + 0.5;\n",
       "    y0 = Math.floor(y0) + 0.5;\n",
       "    x1 = Math.floor(x1) + 0.5;\n",
       "    y1 = Math.floor(y1) + 0.5;\n",
       "    var min_x = Math.min(x0, x1);\n",
       "    var min_y = Math.min(y0, y1);\n",
       "    var width = Math.abs(x1 - x0);\n",
       "    var height = Math.abs(y1 - y0);\n",
       "\n",
       "    fig.rubberband_context.clearRect(\n",
       "        0, 0, fig.canvas.width, fig.canvas.height);\n",
       "\n",
       "    fig.rubberband_context.strokeRect(min_x, min_y, width, height);\n",
       "}\n",
       "\n",
       "mpl.figure.prototype.handle_figure_label = function(fig, msg) {\n",
       "    // Updates the figure title.\n",
       "    fig.header.textContent = msg['label'];\n",
       "}\n",
       "\n",
       "mpl.figure.prototype.handle_cursor = function(fig, msg) {\n",
       "    var cursor = msg['cursor'];\n",
       "    switch(cursor)\n",
       "    {\n",
       "    case 0:\n",
       "        cursor = 'pointer';\n",
       "        break;\n",
       "    case 1:\n",
       "        cursor = 'default';\n",
       "        break;\n",
       "    case 2:\n",
       "        cursor = 'crosshair';\n",
       "        break;\n",
       "    case 3:\n",
       "        cursor = 'move';\n",
       "        break;\n",
       "    }\n",
       "    fig.rubberband_canvas.style.cursor = cursor;\n",
       "}\n",
       "\n",
       "mpl.figure.prototype.handle_message = function(fig, msg) {\n",
       "    fig.message.textContent = msg['message'];\n",
       "}\n",
       "\n",
       "mpl.figure.prototype.handle_draw = function(fig, msg) {\n",
       "    // Request the server to send over a new figure.\n",
       "    fig.send_draw_message();\n",
       "}\n",
       "\n",
       "mpl.figure.prototype.handle_image_mode = function(fig, msg) {\n",
       "    fig.image_mode = msg['mode'];\n",
       "}\n",
       "\n",
       "mpl.figure.prototype.updated_canvas_event = function() {\n",
       "    // Called whenever the canvas gets updated.\n",
       "    this.send_message(\"ack\", {});\n",
       "}\n",
       "\n",
       "// A function to construct a web socket function for onmessage handling.\n",
       "// Called in the figure constructor.\n",
       "mpl.figure.prototype._make_on_message_function = function(fig) {\n",
       "    return function socket_on_message(evt) {\n",
       "        if (evt.data instanceof Blob) {\n",
       "            /* FIXME: We get \"Resource interpreted as Image but\n",
       "             * transferred with MIME type text/plain:\" errors on\n",
       "             * Chrome.  But how to set the MIME type?  It doesn't seem\n",
       "             * to be part of the websocket stream */\n",
       "            evt.data.type = \"image/png\";\n",
       "\n",
       "            /* Free the memory for the previous frames */\n",
       "            if (fig.imageObj.src) {\n",
       "                (window.URL || window.webkitURL).revokeObjectURL(\n",
       "                    fig.imageObj.src);\n",
       "            }\n",
       "\n",
       "            fig.imageObj.src = (window.URL || window.webkitURL).createObjectURL(\n",
       "                evt.data);\n",
       "            fig.updated_canvas_event();\n",
       "            fig.waiting = false;\n",
       "            return;\n",
       "        }\n",
       "        else if (typeof evt.data === 'string' && evt.data.slice(0, 21) == \"data:image/png;base64\") {\n",
       "            fig.imageObj.src = evt.data;\n",
       "            fig.updated_canvas_event();\n",
       "            fig.waiting = false;\n",
       "            return;\n",
       "        }\n",
       "\n",
       "        var msg = JSON.parse(evt.data);\n",
       "        var msg_type = msg['type'];\n",
       "\n",
       "        // Call the  \"handle_{type}\" callback, which takes\n",
       "        // the figure and JSON message as its only arguments.\n",
       "        try {\n",
       "            var callback = fig[\"handle_\" + msg_type];\n",
       "        } catch (e) {\n",
       "            console.log(\"No handler for the '\" + msg_type + \"' message type: \", msg);\n",
       "            return;\n",
       "        }\n",
       "\n",
       "        if (callback) {\n",
       "            try {\n",
       "                // console.log(\"Handling '\" + msg_type + \"' message: \", msg);\n",
       "                callback(fig, msg);\n",
       "            } catch (e) {\n",
       "                console.log(\"Exception inside the 'handler_\" + msg_type + \"' callback:\", e, e.stack, msg);\n",
       "            }\n",
       "        }\n",
       "    };\n",
       "}\n",
       "\n",
       "// from http://stackoverflow.com/questions/1114465/getting-mouse-location-in-canvas\n",
       "mpl.findpos = function(e) {\n",
       "    //this section is from http://www.quirksmode.org/js/events_properties.html\n",
       "    var targ;\n",
       "    if (!e)\n",
       "        e = window.event;\n",
       "    if (e.target)\n",
       "        targ = e.target;\n",
       "    else if (e.srcElement)\n",
       "        targ = e.srcElement;\n",
       "    if (targ.nodeType == 3) // defeat Safari bug\n",
       "        targ = targ.parentNode;\n",
       "\n",
       "    // jQuery normalizes the pageX and pageY\n",
       "    // pageX,Y are the mouse positions relative to the document\n",
       "    // offset() returns the position of the element relative to the document\n",
       "    var x = e.pageX - $(targ).offset().left;\n",
       "    var y = e.pageY - $(targ).offset().top;\n",
       "\n",
       "    return {\"x\": x, \"y\": y};\n",
       "};\n",
       "\n",
       "/*\n",
       " * return a copy of an object with only non-object keys\n",
       " * we need this to avoid circular references\n",
       " * http://stackoverflow.com/a/24161582/3208463\n",
       " */\n",
       "function simpleKeys (original) {\n",
       "  return Object.keys(original).reduce(function (obj, key) {\n",
       "    if (typeof original[key] !== 'object')\n",
       "        obj[key] = original[key]\n",
       "    return obj;\n",
       "  }, {});\n",
       "}\n",
       "\n",
       "mpl.figure.prototype.mouse_event = function(event, name) {\n",
       "    var canvas_pos = mpl.findpos(event)\n",
       "\n",
       "    if (name === 'button_press')\n",
       "    {\n",
       "        this.canvas.focus();\n",
       "        this.canvas_div.focus();\n",
       "    }\n",
       "\n",
       "    var x = canvas_pos.x * mpl.ratio;\n",
       "    var y = canvas_pos.y * mpl.ratio;\n",
       "\n",
       "    this.send_message(name, {x: x, y: y, button: event.button,\n",
       "                             step: event.step,\n",
       "                             guiEvent: simpleKeys(event)});\n",
       "\n",
       "    /* This prevents the web browser from automatically changing to\n",
       "     * the text insertion cursor when the button is pressed.  We want\n",
       "     * to control all of the cursor setting manually through the\n",
       "     * 'cursor' event from matplotlib */\n",
       "    event.preventDefault();\n",
       "    return false;\n",
       "}\n",
       "\n",
       "mpl.figure.prototype._key_event_extra = function(event, name) {\n",
       "    // Handle any extra behaviour associated with a key event\n",
       "}\n",
       "\n",
       "mpl.figure.prototype.key_event = function(event, name) {\n",
       "\n",
       "    // Prevent repeat events\n",
       "    if (name == 'key_press')\n",
       "    {\n",
       "        if (event.which === this._key)\n",
       "            return;\n",
       "        else\n",
       "            this._key = event.which;\n",
       "    }\n",
       "    if (name == 'key_release')\n",
       "        this._key = null;\n",
       "\n",
       "    var value = '';\n",
       "    if (event.ctrlKey && event.which != 17)\n",
       "        value += \"ctrl+\";\n",
       "    if (event.altKey && event.which != 18)\n",
       "        value += \"alt+\";\n",
       "    if (event.shiftKey && event.which != 16)\n",
       "        value += \"shift+\";\n",
       "\n",
       "    value += 'k';\n",
       "    value += event.which.toString();\n",
       "\n",
       "    this._key_event_extra(event, name);\n",
       "\n",
       "    this.send_message(name, {key: value,\n",
       "                             guiEvent: simpleKeys(event)});\n",
       "    return false;\n",
       "}\n",
       "\n",
       "mpl.figure.prototype.toolbar_button_onclick = function(name) {\n",
       "    if (name == 'download') {\n",
       "        this.handle_save(this, null);\n",
       "    } else {\n",
       "        this.send_message(\"toolbar_button\", {name: name});\n",
       "    }\n",
       "};\n",
       "\n",
       "mpl.figure.prototype.toolbar_button_onmouseover = function(tooltip) {\n",
       "    this.message.textContent = tooltip;\n",
       "};\n",
       "mpl.toolbar_items = [[\"Home\", \"Reset original view\", \"fa fa-home icon-home\", \"home\"], [\"Back\", \"Back to previous view\", \"fa fa-arrow-left icon-arrow-left\", \"back\"], [\"Forward\", \"Forward to next view\", \"fa fa-arrow-right icon-arrow-right\", \"forward\"], [\"\", \"\", \"\", \"\"], [\"Pan\", \"Pan axes with left mouse, zoom with right\", \"fa fa-arrows icon-move\", \"pan\"], [\"Zoom\", \"Zoom to rectangle\", \"fa fa-square-o icon-check-empty\", \"zoom\"], [\"\", \"\", \"\", \"\"], [\"Download\", \"Download plot\", \"fa fa-floppy-o icon-save\", \"download\"]];\n",
       "\n",
       "mpl.extensions = [\"eps\", \"jpeg\", \"pdf\", \"png\", \"ps\", \"raw\", \"svg\", \"tif\"];\n",
       "\n",
       "mpl.default_extension = \"png\";var comm_websocket_adapter = function(comm) {\n",
       "    // Create a \"websocket\"-like object which calls the given IPython comm\n",
       "    // object with the appropriate methods. Currently this is a non binary\n",
       "    // socket, so there is still some room for performance tuning.\n",
       "    var ws = {};\n",
       "\n",
       "    ws.close = function() {\n",
       "        comm.close()\n",
       "    };\n",
       "    ws.send = function(m) {\n",
       "        //console.log('sending', m);\n",
       "        comm.send(m);\n",
       "    };\n",
       "    // Register the callback with on_msg.\n",
       "    comm.on_msg(function(msg) {\n",
       "        //console.log('receiving', msg['content']['data'], msg);\n",
       "        // Pass the mpl event to the overridden (by mpl) onmessage function.\n",
       "        ws.onmessage(msg['content']['data'])\n",
       "    });\n",
       "    return ws;\n",
       "}\n",
       "\n",
       "mpl.mpl_figure_comm = function(comm, msg) {\n",
       "    // This is the function which gets called when the mpl process\n",
       "    // starts-up an IPython Comm through the \"matplotlib\" channel.\n",
       "\n",
       "    var id = msg.content.data.id;\n",
       "    // Get hold of the div created by the display call when the Comm\n",
       "    // socket was opened in Python.\n",
       "    var element = $(\"#\" + id);\n",
       "    var ws_proxy = comm_websocket_adapter(comm)\n",
       "\n",
       "    function ondownload(figure, format) {\n",
       "        window.open(figure.imageObj.src);\n",
       "    }\n",
       "\n",
       "    var fig = new mpl.figure(id, ws_proxy,\n",
       "                           ondownload,\n",
       "                           element.get(0));\n",
       "\n",
       "    // Call onopen now - mpl needs it, as it is assuming we've passed it a real\n",
       "    // web socket which is closed, not our websocket->open comm proxy.\n",
       "    ws_proxy.onopen();\n",
       "\n",
       "    fig.parent_element = element.get(0);\n",
       "    fig.cell_info = mpl.find_output_cell(\"<div id='\" + id + \"'></div>\");\n",
       "    if (!fig.cell_info) {\n",
       "        console.error(\"Failed to find cell for figure\", id, fig);\n",
       "        return;\n",
       "    }\n",
       "\n",
       "    var output_index = fig.cell_info[2]\n",
       "    var cell = fig.cell_info[0];\n",
       "\n",
       "};\n",
       "\n",
       "mpl.figure.prototype.handle_close = function(fig, msg) {\n",
       "    var width = fig.canvas.width/mpl.ratio\n",
       "    fig.root.unbind('remove')\n",
       "\n",
       "    // Update the output cell to use the data from the current canvas.\n",
       "    fig.push_to_output();\n",
       "    var dataURL = fig.canvas.toDataURL();\n",
       "    // Re-enable the keyboard manager in IPython - without this line, in FF,\n",
       "    // the notebook keyboard shortcuts fail.\n",
       "    IPython.keyboard_manager.enable()\n",
       "    $(fig.parent_element).html('<img src=\"' + dataURL + '\" width=\"' + width + '\">');\n",
       "    fig.close_ws(fig, msg);\n",
       "}\n",
       "\n",
       "mpl.figure.prototype.close_ws = function(fig, msg){\n",
       "    fig.send_message('closing', msg);\n",
       "    // fig.ws.close()\n",
       "}\n",
       "\n",
       "mpl.figure.prototype.push_to_output = function(remove_interactive) {\n",
       "    // Turn the data on the canvas into data in the output cell.\n",
       "    var width = this.canvas.width/mpl.ratio\n",
       "    var dataURL = this.canvas.toDataURL();\n",
       "    this.cell_info[1]['text/html'] = '<img src=\"' + dataURL + '\" width=\"' + width + '\">';\n",
       "}\n",
       "\n",
       "mpl.figure.prototype.updated_canvas_event = function() {\n",
       "    // Tell IPython that the notebook contents must change.\n",
       "    IPython.notebook.set_dirty(true);\n",
       "    this.send_message(\"ack\", {});\n",
       "    var fig = this;\n",
       "    // Wait a second, then push the new image to the DOM so\n",
       "    // that it is saved nicely (might be nice to debounce this).\n",
       "    setTimeout(function () { fig.push_to_output() }, 1000);\n",
       "}\n",
       "\n",
       "mpl.figure.prototype._init_toolbar = function() {\n",
       "    var fig = this;\n",
       "\n",
       "    var nav_element = $('<div/>')\n",
       "    nav_element.attr('style', 'width: 100%');\n",
       "    this.root.append(nav_element);\n",
       "\n",
       "    // Define a callback function for later on.\n",
       "    function toolbar_event(event) {\n",
       "        return fig.toolbar_button_onclick(event['data']);\n",
       "    }\n",
       "    function toolbar_mouse_event(event) {\n",
       "        return fig.toolbar_button_onmouseover(event['data']);\n",
       "    }\n",
       "\n",
       "    for(var toolbar_ind in mpl.toolbar_items){\n",
       "        var name = mpl.toolbar_items[toolbar_ind][0];\n",
       "        var tooltip = mpl.toolbar_items[toolbar_ind][1];\n",
       "        var image = mpl.toolbar_items[toolbar_ind][2];\n",
       "        var method_name = mpl.toolbar_items[toolbar_ind][3];\n",
       "\n",
       "        if (!name) { continue; };\n",
       "\n",
       "        var button = $('<button class=\"btn btn-default\" href=\"#\" title=\"' + name + '\"><i class=\"fa ' + image + ' fa-lg\"></i></button>');\n",
       "        button.click(method_name, toolbar_event);\n",
       "        button.mouseover(tooltip, toolbar_mouse_event);\n",
       "        nav_element.append(button);\n",
       "    }\n",
       "\n",
       "    // Add the status bar.\n",
       "    var status_bar = $('<span class=\"mpl-message\" style=\"text-align:right; float: right;\"/>');\n",
       "    nav_element.append(status_bar);\n",
       "    this.message = status_bar[0];\n",
       "\n",
       "    // Add the close button to the window.\n",
       "    var buttongrp = $('<div class=\"btn-group inline pull-right\"></div>');\n",
       "    var button = $('<button class=\"btn btn-mini btn-primary\" href=\"#\" title=\"Stop Interaction\"><i class=\"fa fa-power-off icon-remove icon-large\"></i></button>');\n",
       "    button.click(function (evt) { fig.handle_close(fig, {}); } );\n",
       "    button.mouseover('Stop Interaction', toolbar_mouse_event);\n",
       "    buttongrp.append(button);\n",
       "    var titlebar = this.root.find($('.ui-dialog-titlebar'));\n",
       "    titlebar.prepend(buttongrp);\n",
       "}\n",
       "\n",
       "mpl.figure.prototype._root_extra_style = function(el){\n",
       "    var fig = this\n",
       "    el.on(\"remove\", function(){\n",
       "\tfig.close_ws(fig, {});\n",
       "    });\n",
       "}\n",
       "\n",
       "mpl.figure.prototype._canvas_extra_style = function(el){\n",
       "    // this is important to make the div 'focusable\n",
       "    el.attr('tabindex', 0)\n",
       "    // reach out to IPython and tell the keyboard manager to turn it's self\n",
       "    // off when our div gets focus\n",
       "\n",
       "    // location in version 3\n",
       "    if (IPython.notebook.keyboard_manager) {\n",
       "        IPython.notebook.keyboard_manager.register_events(el);\n",
       "    }\n",
       "    else {\n",
       "        // location in version 2\n",
       "        IPython.keyboard_manager.register_events(el);\n",
       "    }\n",
       "\n",
       "}\n",
       "\n",
       "mpl.figure.prototype._key_event_extra = function(event, name) {\n",
       "    var manager = IPython.notebook.keyboard_manager;\n",
       "    if (!manager)\n",
       "        manager = IPython.keyboard_manager;\n",
       "\n",
       "    // Check for shift+enter\n",
       "    if (event.shiftKey && event.which == 13) {\n",
       "        this.canvas_div.blur();\n",
       "        event.shiftKey = false;\n",
       "        // Send a \"J\" for go to next cell\n",
       "        event.which = 74;\n",
       "        event.keyCode = 74;\n",
       "        manager.command_mode();\n",
       "        manager.handle_keydown(event);\n",
       "    }\n",
       "}\n",
       "\n",
       "mpl.figure.prototype.handle_save = function(fig, msg) {\n",
       "    fig.ondownload(fig, null);\n",
       "}\n",
       "\n",
       "\n",
       "mpl.find_output_cell = function(html_output) {\n",
       "    // Return the cell and output element which can be found *uniquely* in the notebook.\n",
       "    // Note - this is a bit hacky, but it is done because the \"notebook_saving.Notebook\"\n",
       "    // IPython event is triggered only after the cells have been serialised, which for\n",
       "    // our purposes (turning an active figure into a static one), is too late.\n",
       "    var cells = IPython.notebook.get_cells();\n",
       "    var ncells = cells.length;\n",
       "    for (var i=0; i<ncells; i++) {\n",
       "        var cell = cells[i];\n",
       "        if (cell.cell_type === 'code'){\n",
       "            for (var j=0; j<cell.output_area.outputs.length; j++) {\n",
       "                var data = cell.output_area.outputs[j];\n",
       "                if (data.data) {\n",
       "                    // IPython >= 3 moved mimebundle to data attribute of output\n",
       "                    data = data.data;\n",
       "                }\n",
       "                if (data['text/html'] == html_output) {\n",
       "                    return [cell, data, j];\n",
       "                }\n",
       "            }\n",
       "        }\n",
       "    }\n",
       "}\n",
       "\n",
       "// Register the function which deals with the matplotlib target/channel.\n",
       "// The kernel may be null if the page has been refreshed.\n",
       "if (IPython.notebook.kernel != null) {\n",
       "    IPython.notebook.kernel.comm_manager.register_target('matplotlib', mpl.mpl_figure_comm);\n",
       "}\n"
      ],
      "text/plain": [
       "<IPython.core.display.Javascript object>"
      ]
     },
     "metadata": {},
     "output_type": "display_data"
    },
    {
     "data": {
      "text/html": [
       "<img src=\"data:image/png;base64,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\" width=\"640\">"
      ],
      "text/plain": [
       "<IPython.core.display.HTML object>"
      ]
     },
     "metadata": {},
     "output_type": "display_data"
    },
    {
     "name": "stderr",
     "output_type": "stream",
     "text": [
      "H:\\anaconda\\lib\\site-packages\\numpy\\lib\\histograms.py:754: RuntimeWarning: invalid value encountered in greater_equal\n",
      "  keep = (tmp_a >= first_edge)\n",
      "H:\\anaconda\\lib\\site-packages\\numpy\\lib\\histograms.py:755: RuntimeWarning: invalid value encountered in less_equal\n",
      "  keep &= (tmp_a <= last_edge)\n"
     ]
    },
    {
     "data": {
      "text/plain": [
       "(array([7.0000e+00, 6.0000e+00, 2.0000e+01, 6.5000e+01, 9.4000e+01,\n",
       "        1.4200e+02, 2.9400e+02, 5.2600e+02, 1.2510e+03, 1.8450e+03,\n",
       "        2.5780e+03, 4.0870e+03, 6.1890e+03, 9.6500e+03, 1.3745e+04,\n",
       "        1.8366e+04, 2.0310e+04, 2.0773e+04, 1.9382e+04, 1.8784e+04,\n",
       "        1.5915e+04, 1.1254e+04, 7.5250e+03, 4.9470e+03, 2.8290e+03,\n",
       "        1.4590e+03, 7.4800e+02, 2.2800e+02, 8.4000e+01, 3.9000e+01]),\n",
       " array([33.        , 35.03333333, 37.06666667, 39.1       , 41.13333333,\n",
       "        43.16666667, 45.2       , 47.23333333, 49.26666667, 51.3       ,\n",
       "        53.33333333, 55.36666667, 57.4       , 59.43333333, 61.46666667,\n",
       "        63.5       , 65.53333333, 67.56666667, 69.6       , 71.63333333,\n",
       "        73.66666667, 75.7       , 77.73333333, 79.76666667, 81.8       ,\n",
       "        83.83333333, 85.86666667, 87.9       , 89.93333333, 91.96666667,\n",
       "        94.        ]),\n",
       " <a list of 30 Patch objects>)"
      ]
     },
     "execution_count": 83,
     "metadata": {},
     "output_type": "execute_result"
    }
   ],
   "source": [
    "plt.hist(target, 30)"
   ]
  },
  {
   "cell_type": "code",
   "execution_count": 84,
   "metadata": {},
   "outputs": [],
   "source": [
    "y = target.fillna(target.mean())"
   ]
  },
  {
   "cell_type": "code",
   "execution_count": 85,
   "metadata": {},
   "outputs": [
    {
     "data": {
      "text/plain": [
       "False"
      ]
     },
     "execution_count": 85,
     "metadata": {},
     "output_type": "execute_result"
    }
   ],
   "source": [
    "y.isnull().values.any()"
   ]
  },
  {
   "cell_type": "code",
   "execution_count": 13,
   "metadata": {},
   "outputs": [
    {
     "data": {
      "text/plain": [
       "id                       int64\n",
       "player_fifa_api_id       int64\n",
       "player_api_id            int64\n",
       "date                    object\n",
       "potential              float64\n",
       "preferred_foot          object\n",
       "attacking_work_rate     object\n",
       "defensive_work_rate     object\n",
       "crossing               float64\n",
       "finishing              float64\n",
       "heading_accuracy       float64\n",
       "short_passing          float64\n",
       "volleys                float64\n",
       "dribbling              float64\n",
       "curve                  float64\n",
       "free_kick_accuracy     float64\n",
       "long_passing           float64\n",
       "ball_control           float64\n",
       "acceleration           float64\n",
       "sprint_speed           float64\n",
       "agility                float64\n",
       "reactions              float64\n",
       "balance                float64\n",
       "shot_power             float64\n",
       "jumping                float64\n",
       "stamina                float64\n",
       "strength               float64\n",
       "long_shots             float64\n",
       "aggression             float64\n",
       "interceptions          float64\n",
       "positioning            float64\n",
       "vision                 float64\n",
       "penalties              float64\n",
       "marking                float64\n",
       "standing_tackle        float64\n",
       "sliding_tackle         float64\n",
       "gk_diving              float64\n",
       "gk_handling            float64\n",
       "gk_kicking             float64\n",
       "gk_positioning         float64\n",
       "gk_reflexes            float64\n",
       "dtype: object"
      ]
     },
     "execution_count": 13,
     "metadata": {},
     "output_type": "execute_result"
    }
   ],
   "source": [
    "df.dtypes"
   ]
  },
  {
   "cell_type": "code",
   "execution_count": 14,
   "metadata": {},
   "outputs": [],
   "source": [
    "df['preferred_foot'] = df['preferred_foot'].astype('category')"
   ]
  },
  {
   "cell_type": "code",
   "execution_count": 15,
   "metadata": {},
   "outputs": [],
   "source": [
    "ports = {\"right\": 0, \"left\": 1}\n",
    "\n",
    "\n",
    "\n",
    "df['preferred_foot'] = df['preferred_foot'].map(ports)\n"
   ]
  },
  {
   "cell_type": "code",
   "execution_count": 16,
   "metadata": {},
   "outputs": [
    {
     "data": {
      "text/plain": [
       "836"
      ]
     },
     "execution_count": 16,
     "metadata": {},
     "output_type": "execute_result"
    }
   ],
   "source": [
    "df['preferred_foot'].isna().values.sum()"
   ]
  },
  {
   "cell_type": "code",
   "execution_count": 17,
   "metadata": {},
   "outputs": [],
   "source": [
    "df['preferred_foot']=df['preferred_foot'].fillna(df['preferred_foot'].mean())"
   ]
  },
  {
   "cell_type": "code",
   "execution_count": 18,
   "metadata": {},
   "outputs": [
    {
     "data": {
      "text/plain": [
       "False"
      ]
     },
     "execution_count": 18,
     "metadata": {},
     "output_type": "execute_result"
    }
   ],
   "source": [
    "df['preferred_foot'].isnull().values.any()"
   ]
  },
  {
   "cell_type": "code",
   "execution_count": 19,
   "metadata": {},
   "outputs": [],
   "source": [
    "df['preferred_foot']=df['preferred_foot'].astype('int')\n"
   ]
  },
  {
   "cell_type": "code",
   "execution_count": 20,
   "metadata": {},
   "outputs": [],
   "source": [
    "df['attacking_work_rate'] = df['attacking_work_rate'].astype('category')"
   ]
  },
  {
   "cell_type": "code",
   "execution_count": 21,
   "metadata": {},
   "outputs": [
    {
     "data": {
      "text/plain": [
       "0    medium\n",
       "1    medium\n",
       "2    medium\n",
       "3    medium\n",
       "4    medium\n",
       "Name: attacking_work_rate, dtype: category\n",
       "Categories (8, object): [None, high, le, low, medium, norm, stoc, y]"
      ]
     },
     "execution_count": 21,
     "metadata": {},
     "output_type": "execute_result"
    }
   ],
   "source": [
    "df['attacking_work_rate'].head()"
   ]
  },
  {
   "cell_type": "code",
   "execution_count": 22,
   "metadata": {},
   "outputs": [],
   "source": [
    "ports = {\"high\": 0, \"le\": 1, \"low\":2, \"medium\": 3, \"norm\": 4, \"stoc\": 4, \"y\":5}\n",
    "\n",
    "\n",
    "\n",
    "df['attacking_work_rate'] = df['attacking_work_rate'].map(ports)\n"
   ]
  },
  {
   "cell_type": "code",
   "execution_count": 23,
   "metadata": {},
   "outputs": [
    {
     "data": {
      "text/plain": [
       "0    3.0\n",
       "1    3.0\n",
       "2    3.0\n",
       "3    3.0\n",
       "4    3.0\n",
       "Name: attacking_work_rate, dtype: float64"
      ]
     },
     "execution_count": 23,
     "metadata": {},
     "output_type": "execute_result"
    }
   ],
   "source": [
    "df['attacking_work_rate'].head()"
   ]
  },
  {
   "cell_type": "code",
   "execution_count": 24,
   "metadata": {},
   "outputs": [],
   "source": [
    "df['attacking_work_rate']=df['attacking_work_rate'].fillna(df['attacking_work_rate'].mean())"
   ]
  },
  {
   "cell_type": "code",
   "execution_count": 25,
   "metadata": {},
   "outputs": [],
   "source": [
    "df['attacking_work_rate']=df['attacking_work_rate'].astype('int')"
   ]
  },
  {
   "cell_type": "code",
   "execution_count": 26,
   "metadata": {},
   "outputs": [
    {
     "data": {
      "text/plain": [
       "0    3\n",
       "1    3\n",
       "2    3\n",
       "3    3\n",
       "4    3\n",
       "Name: attacking_work_rate, dtype: int32"
      ]
     },
     "execution_count": 26,
     "metadata": {},
     "output_type": "execute_result"
    }
   ],
   "source": [
    "df['attacking_work_rate'].head()"
   ]
  },
  {
   "cell_type": "code",
   "execution_count": 27,
   "metadata": {},
   "outputs": [],
   "source": [
    "df['defensive_work_rate'] = df['defensive_work_rate'].astype('category')"
   ]
  },
  {
   "cell_type": "code",
   "execution_count": 28,
   "metadata": {},
   "outputs": [
    {
     "data": {
      "text/plain": [
       "0    medium\n",
       "1    medium\n",
       "2    medium\n",
       "3    medium\n",
       "4    medium\n",
       "Name: defensive_work_rate, dtype: category\n",
       "Categories (19, object): [0, 1, 2, 3, ..., medium, o, ormal, tocky]"
      ]
     },
     "execution_count": 28,
     "metadata": {},
     "output_type": "execute_result"
    }
   ],
   "source": [
    "df['defensive_work_rate'].head()"
   ]
  },
  {
   "cell_type": "code",
   "execution_count": 86,
   "metadata": {},
   "outputs": [
    {
     "data": {
      "text/html": [
       "<div>\n",
       "<style scoped>\n",
       "    .dataframe tbody tr th:only-of-type {\n",
       "        vertical-align: middle;\n",
       "    }\n",
       "\n",
       "    .dataframe tbody tr th {\n",
       "        vertical-align: top;\n",
       "    }\n",
       "\n",
       "    .dataframe thead th {\n",
       "        text-align: right;\n",
       "    }\n",
       "</style>\n",
       "<table border=\"1\" class=\"dataframe\">\n",
       "  <thead>\n",
       "    <tr style=\"text-align: right;\">\n",
       "      <th></th>\n",
       "      <th>id</th>\n",
       "      <th>player_fifa_api_id</th>\n",
       "      <th>player_api_id</th>\n",
       "      <th>date</th>\n",
       "      <th>potential</th>\n",
       "      <th>preferred_foot</th>\n",
       "      <th>attacking_work_rate</th>\n",
       "      <th>crossing</th>\n",
       "      <th>finishing</th>\n",
       "      <th>heading_accuracy</th>\n",
       "      <th>...</th>\n",
       "      <th>defensive_work_rate_9</th>\n",
       "      <th>defensive_work_rate__0</th>\n",
       "      <th>defensive_work_rate_ean</th>\n",
       "      <th>defensive_work_rate_es</th>\n",
       "      <th>defensive_work_rate_high</th>\n",
       "      <th>defensive_work_rate_low</th>\n",
       "      <th>defensive_work_rate_medium</th>\n",
       "      <th>defensive_work_rate_o</th>\n",
       "      <th>defensive_work_rate_ormal</th>\n",
       "      <th>defensive_work_rate_tocky</th>\n",
       "    </tr>\n",
       "  </thead>\n",
       "  <tbody>\n",
       "    <tr>\n",
       "      <th>0</th>\n",
       "      <td>1</td>\n",
       "      <td>218353</td>\n",
       "      <td>505942</td>\n",
       "      <td>2016-02-18 00:00:00</td>\n",
       "      <td>71.0</td>\n",
       "      <td>0</td>\n",
       "      <td>3</td>\n",
       "      <td>49.0</td>\n",
       "      <td>44.0</td>\n",
       "      <td>71.0</td>\n",
       "      <td>...</td>\n",
       "      <td>0</td>\n",
       "      <td>0</td>\n",
       "      <td>0</td>\n",
       "      <td>0</td>\n",
       "      <td>0</td>\n",
       "      <td>0</td>\n",
       "      <td>1</td>\n",
       "      <td>0</td>\n",
       "      <td>0</td>\n",
       "      <td>0</td>\n",
       "    </tr>\n",
       "    <tr>\n",
       "      <th>1</th>\n",
       "      <td>2</td>\n",
       "      <td>218353</td>\n",
       "      <td>505942</td>\n",
       "      <td>2015-11-19 00:00:00</td>\n",
       "      <td>71.0</td>\n",
       "      <td>0</td>\n",
       "      <td>3</td>\n",
       "      <td>49.0</td>\n",
       "      <td>44.0</td>\n",
       "      <td>71.0</td>\n",
       "      <td>...</td>\n",
       "      <td>0</td>\n",
       "      <td>0</td>\n",
       "      <td>0</td>\n",
       "      <td>0</td>\n",
       "      <td>0</td>\n",
       "      <td>0</td>\n",
       "      <td>1</td>\n",
       "      <td>0</td>\n",
       "      <td>0</td>\n",
       "      <td>0</td>\n",
       "    </tr>\n",
       "    <tr>\n",
       "      <th>2</th>\n",
       "      <td>3</td>\n",
       "      <td>218353</td>\n",
       "      <td>505942</td>\n",
       "      <td>2015-09-21 00:00:00</td>\n",
       "      <td>66.0</td>\n",
       "      <td>0</td>\n",
       "      <td>3</td>\n",
       "      <td>49.0</td>\n",
       "      <td>44.0</td>\n",
       "      <td>71.0</td>\n",
       "      <td>...</td>\n",
       "      <td>0</td>\n",
       "      <td>0</td>\n",
       "      <td>0</td>\n",
       "      <td>0</td>\n",
       "      <td>0</td>\n",
       "      <td>0</td>\n",
       "      <td>1</td>\n",
       "      <td>0</td>\n",
       "      <td>0</td>\n",
       "      <td>0</td>\n",
       "    </tr>\n",
       "    <tr>\n",
       "      <th>3</th>\n",
       "      <td>4</td>\n",
       "      <td>218353</td>\n",
       "      <td>505942</td>\n",
       "      <td>2015-03-20 00:00:00</td>\n",
       "      <td>65.0</td>\n",
       "      <td>0</td>\n",
       "      <td>3</td>\n",
       "      <td>48.0</td>\n",
       "      <td>43.0</td>\n",
       "      <td>70.0</td>\n",
       "      <td>...</td>\n",
       "      <td>0</td>\n",
       "      <td>0</td>\n",
       "      <td>0</td>\n",
       "      <td>0</td>\n",
       "      <td>0</td>\n",
       "      <td>0</td>\n",
       "      <td>1</td>\n",
       "      <td>0</td>\n",
       "      <td>0</td>\n",
       "      <td>0</td>\n",
       "    </tr>\n",
       "    <tr>\n",
       "      <th>4</th>\n",
       "      <td>5</td>\n",
       "      <td>218353</td>\n",
       "      <td>505942</td>\n",
       "      <td>2007-02-22 00:00:00</td>\n",
       "      <td>65.0</td>\n",
       "      <td>0</td>\n",
       "      <td>3</td>\n",
       "      <td>48.0</td>\n",
       "      <td>43.0</td>\n",
       "      <td>70.0</td>\n",
       "      <td>...</td>\n",
       "      <td>0</td>\n",
       "      <td>0</td>\n",
       "      <td>0</td>\n",
       "      <td>0</td>\n",
       "      <td>0</td>\n",
       "      <td>0</td>\n",
       "      <td>1</td>\n",
       "      <td>0</td>\n",
       "      <td>0</td>\n",
       "      <td>0</td>\n",
       "    </tr>\n",
       "  </tbody>\n",
       "</table>\n",
       "<p>5 rows × 59 columns</p>\n",
       "</div>"
      ],
      "text/plain": [
       "   id  player_fifa_api_id  player_api_id                 date  potential  \\\n",
       "0   1              218353         505942  2016-02-18 00:00:00       71.0   \n",
       "1   2              218353         505942  2015-11-19 00:00:00       71.0   \n",
       "2   3              218353         505942  2015-09-21 00:00:00       66.0   \n",
       "3   4              218353         505942  2015-03-20 00:00:00       65.0   \n",
       "4   5              218353         505942  2007-02-22 00:00:00       65.0   \n",
       "\n",
       "   preferred_foot  attacking_work_rate  crossing  finishing  heading_accuracy  \\\n",
       "0               0                    3      49.0       44.0              71.0   \n",
       "1               0                    3      49.0       44.0              71.0   \n",
       "2               0                    3      49.0       44.0              71.0   \n",
       "3               0                    3      48.0       43.0              70.0   \n",
       "4               0                    3      48.0       43.0              70.0   \n",
       "\n",
       "             ...              defensive_work_rate_9  defensive_work_rate__0  \\\n",
       "0            ...                                  0                       0   \n",
       "1            ...                                  0                       0   \n",
       "2            ...                                  0                       0   \n",
       "3            ...                                  0                       0   \n",
       "4            ...                                  0                       0   \n",
       "\n",
       "   defensive_work_rate_ean  defensive_work_rate_es  defensive_work_rate_high  \\\n",
       "0                        0                       0                         0   \n",
       "1                        0                       0                         0   \n",
       "2                        0                       0                         0   \n",
       "3                        0                       0                         0   \n",
       "4                        0                       0                         0   \n",
       "\n",
       "   defensive_work_rate_low  defensive_work_rate_medium  defensive_work_rate_o  \\\n",
       "0                        0                           1                      0   \n",
       "1                        0                           1                      0   \n",
       "2                        0                           1                      0   \n",
       "3                        0                           1                      0   \n",
       "4                        0                           1                      0   \n",
       "\n",
       "   defensive_work_rate_ormal  defensive_work_rate_tocky  \n",
       "0                          0                          0  \n",
       "1                          0                          0  \n",
       "2                          0                          0  \n",
       "3                          0                          0  \n",
       "4                          0                          0  \n",
       "\n",
       "[5 rows x 59 columns]"
      ]
     },
     "execution_count": 86,
     "metadata": {},
     "output_type": "execute_result"
    }
   ],
   "source": [
    "dummy_df = pd.get_dummies(df, columns=['defensive_work_rate'])\n",
    "dummy_df.head()"
   ]
  },
  {
   "cell_type": "code",
   "execution_count": 87,
   "metadata": {},
   "outputs": [],
   "source": [
    "\n",
    "X = dummy_df.drop(['id', 'date'], axis=1)"
   ]
  },
  {
   "cell_type": "code",
   "execution_count": 88,
   "metadata": {},
   "outputs": [
    {
     "name": "stderr",
     "output_type": "stream",
     "text": [
      "H:\\anaconda\\lib\\site-packages\\sklearn\\preprocessing\\data.py:625: DataConversionWarning: Data with input dtype uint8, int32, int64, float64 were all converted to float64 by StandardScaler.\n",
      "  return self.partial_fit(X, y)\n",
      "H:\\anaconda\\lib\\site-packages\\sklearn\\base.py:462: DataConversionWarning: Data with input dtype uint8, int32, int64, float64 were all converted to float64 by StandardScaler.\n",
      "  return self.fit(X, **fit_params).transform(X)\n"
     ]
    }
   ],
   "source": [
    "from sklearn.preprocessing import StandardScaler\n",
    "scaler=StandardScaler()\n",
    "X=scaler.fit_transform(X)"
   ]
  },
  {
   "cell_type": "code",
   "execution_count": 89,
   "metadata": {},
   "outputs": [],
   "source": [
    "X_train, X_test, y_train, y_test = train_test_split(X, y, test_size=0.25, random_state=42)"
   ]
  },
  {
   "cell_type": "code",
   "execution_count": 92,
   "metadata": {},
   "outputs": [
    {
     "name": "stderr",
     "output_type": "stream",
     "text": [
      "H:\\anaconda\\lib\\site-packages\\sklearn\\utils\\deprecation.py:58: DeprecationWarning: Class Imputer is deprecated; Imputer was deprecated in version 0.20 and will be removed in 0.22. Import impute.SimpleImputer from sklearn instead.\n",
      "  warnings.warn(msg, category=DeprecationWarning)\n"
     ]
    }
   ],
   "source": [
    "#imputing null value of each column with the mean of that column\n",
    "imput = Imputer()\n",
    "X_train = imput.fit_transform(X_train)\n",
    "X_test = imput.fit_transform(X_test)"
   ]
  },
  {
   "cell_type": "code",
   "execution_count": 93,
   "metadata": {},
   "outputs": [],
   "source": [
    "from sklearn.linear_model import Ridge\n",
    "alpha = [0.001, 0.01, 0.1, 1, 10, 100, 1000]\n",
    "ridge = Ridge(alpha=1).fit(X_train, y_train)\n",
    "param_grid = dict(alpha=alpha)\n",
    "grid = GridSearchCV(estimator=ridge, param_grid=param_grid, scoring='r2', verbose=1, n_jobs=-1)\n"
   ]
  },
  {
   "cell_type": "code",
   "execution_count": 94,
   "metadata": {},
   "outputs": [
    {
     "name": "stderr",
     "output_type": "stream",
     "text": [
      "H:\\anaconda\\lib\\site-packages\\sklearn\\model_selection\\_split.py:2053: FutureWarning: You should specify a value for 'cv' instead of relying on the default value. The default value will change from 3 to 5 in version 0.22.\n",
      "  warnings.warn(CV_WARNING, FutureWarning)\n",
      "[Parallel(n_jobs=-1)]: Using backend LokyBackend with 8 concurrent workers.\n"
     ]
    },
    {
     "name": "stdout",
     "output_type": "stream",
     "text": [
      "Fitting 3 folds for each of 7 candidates, totalling 21 fits\n"
     ]
    },
    {
     "name": "stderr",
     "output_type": "stream",
     "text": [
      "[Parallel(n_jobs=-1)]: Done  21 out of  21 | elapsed:    3.7s finished\n"
     ]
    },
    {
     "data": {
      "text/plain": [
       "GridSearchCV(cv='warn', error_score='raise-deprecating',\n",
       "       estimator=Ridge(alpha=1, copy_X=True, fit_intercept=True, max_iter=None,\n",
       "   normalize=False, random_state=None, solver='auto', tol=0.001),\n",
       "       fit_params=None, iid='warn', n_jobs=-1,\n",
       "       param_grid={'alpha': [0.001, 0.01, 0.1, 1, 10, 100, 1000]},\n",
       "       pre_dispatch='2*n_jobs', refit=True, return_train_score='warn',\n",
       "       scoring='r2', verbose=1)"
      ]
     },
     "execution_count": 94,
     "metadata": {},
     "output_type": "execute_result"
    }
   ],
   "source": [
    "grid.fit(X_train,y_train)"
   ]
  },
  {
   "cell_type": "code",
   "execution_count": 95,
   "metadata": {},
   "outputs": [
    {
     "data": {
      "text/plain": [
       "{'alpha': 10}"
      ]
     },
     "execution_count": 95,
     "metadata": {},
     "output_type": "execute_result"
    }
   ],
   "source": [
    "grid.best_params_\n"
   ]
  },
  {
   "cell_type": "code",
   "execution_count": 96,
   "metadata": {},
   "outputs": [
    {
     "data": {
      "text/plain": [
       "LinearRegression(copy_X=True, fit_intercept=False, n_jobs=None,\n",
       "         normalize=False)"
      ]
     },
     "execution_count": 96,
     "metadata": {},
     "output_type": "execute_result"
    }
   ],
   "source": [
    "from sklearn.linear_model import LinearRegression\n",
    "lm = LinearRegression(fit_intercept=False)\n",
    "lm.fit(X_train,y_train )\n",
    "\n",
    "# print intercept and coefficients\n"
   ]
  },
  {
   "cell_type": "code",
   "execution_count": 97,
   "metadata": {},
   "outputs": [
    {
     "data": {
      "text/plain": [
       "array([  2.31457086,  -4.73076695,  -0.15209323, ...,  -2.57305164,\n",
       "         2.34383791, -12.01561296])"
      ]
     },
     "execution_count": 97,
     "metadata": {},
     "output_type": "execute_result"
    }
   ],
   "source": [
    "lm.predict(X_test)"
   ]
  },
  {
   "cell_type": "code",
   "execution_count": 98,
   "metadata": {},
   "outputs": [
    {
     "data": {
      "text/plain": [
       "-94.7560409615157"
      ]
     },
     "execution_count": 98,
     "metadata": {},
     "output_type": "execute_result"
    }
   ],
   "source": [
    "lm.score(X_train,y_train)"
   ]
  },
  {
   "cell_type": "code",
   "execution_count": 99,
   "metadata": {},
   "outputs": [
    {
     "data": {
      "text/plain": [
       "-93.75479872383266"
      ]
     },
     "execution_count": 99,
     "metadata": {},
     "output_type": "execute_result"
    }
   ],
   "source": [
    "lm.score(X_test,y_test)"
   ]
  },
  {
   "cell_type": "code",
   "execution_count": 101,
   "metadata": {},
   "outputs": [
    {
     "name": "stderr",
     "output_type": "stream",
     "text": [
      "H:\\anaconda\\lib\\site-packages\\xgboost\\core.py:587: FutureWarning: Series.base is deprecated and will be removed in a future version\n",
      "  if getattr(data, 'base', None) is not None and \\\n"
     ]
    },
    {
     "name": "stdout",
     "output_type": "stream",
     "text": [
      "[14:59:24] WARNING: src/objective/regression_obj.cu:152: reg:linear is now deprecated in favor of reg:squarederror.\n"
     ]
    },
    {
     "data": {
      "text/plain": [
       "XGBRegressor(base_score=0.5, booster='gbtree', colsample_bylevel=1,\n",
       "       colsample_bynode=1, colsample_bytree=1, gamma=0,\n",
       "       importance_type='gain', learning_rate=1, max_delta_step=0,\n",
       "       max_depth=5, min_child_weight=1, missing=None, n_estimators=50,\n",
       "       n_jobs=1, nthread=None, objective='reg:linear', random_state=0,\n",
       "       reg_alpha=0, reg_lambda=1, scale_pos_weight=1, seed=None,\n",
       "       silent=None, subsample=1, verbosity=1)"
      ]
     },
     "execution_count": 101,
     "metadata": {},
     "output_type": "execute_result"
    }
   ],
   "source": [
    "new_model=XGBRegressor(learning_rate= 1, max_depth= 5, n_estimators= 50)\n",
    "new_model.fit(X_train,y_train)"
   ]
  },
  {
   "cell_type": "code",
   "execution_count": 102,
   "metadata": {},
   "outputs": [
    {
     "data": {
      "text/plain": [
       "0.9523195403155694"
      ]
     },
     "execution_count": 102,
     "metadata": {},
     "output_type": "execute_result"
    }
   ],
   "source": [
    "new_model.score(X_train,y_train)"
   ]
  },
  {
   "cell_type": "code",
   "execution_count": 103,
   "metadata": {},
   "outputs": [
    {
     "data": {
      "text/plain": [
       "0.9397227047804344"
      ]
     },
     "execution_count": 103,
     "metadata": {},
     "output_type": "execute_result"
    }
   ],
   "source": [
    "new_model.score(X_test,y_test)"
   ]
  },
  {
   "cell_type": "code",
   "execution_count": 108,
   "metadata": {},
   "outputs": [
    {
     "data": {
      "text/plain": [
       "array([74.31971, 64.64192, 68.67069, ..., 64.26308, 74.65321, 56.08947],\n",
       "      dtype=float32)"
      ]
     },
     "execution_count": 108,
     "metadata": {},
     "output_type": "execute_result"
    }
   ],
   "source": [
    "new_model.predict(X_test)"
   ]
  },
  {
   "cell_type": "code",
   "execution_count": 106,
   "metadata": {},
   "outputs": [
    {
     "data": {
      "text/plain": [
       "DecisionTreeRegressor(criterion='mse', max_depth=None, max_features=None,\n",
       "           max_leaf_nodes=None, min_impurity_decrease=0.0,\n",
       "           min_impurity_split=None, min_samples_leaf=1,\n",
       "           min_samples_split=2, min_weight_fraction_leaf=0.0,\n",
       "           presort=False, random_state=None, splitter='best')"
      ]
     },
     "execution_count": 106,
     "metadata": {},
     "output_type": "execute_result"
    }
   ],
   "source": [
    "from sklearn.tree import DecisionTreeRegressor\n",
    "clf = DecisionTreeRegressor()\n",
    "clf.fit(X_train,y_train)"
   ]
  },
  {
   "cell_type": "code",
   "execution_count": 107,
   "metadata": {},
   "outputs": [
    {
     "data": {
      "text/plain": [
       "array([74., 67., 70., ..., 66., 73., 56.])"
      ]
     },
     "execution_count": 107,
     "metadata": {},
     "output_type": "execute_result"
    }
   ],
   "source": [
    "clf.predict(X_test)"
   ]
  },
  {
   "cell_type": "code",
   "execution_count": 109,
   "metadata": {},
   "outputs": [
    {
     "data": {
      "text/plain": [
       "0.9610810489030357"
      ]
     },
     "execution_count": 109,
     "metadata": {},
     "output_type": "execute_result"
    }
   ],
   "source": [
    "clf.score(X_test,y_test)"
   ]
  },
  {
   "cell_type": "code",
   "execution_count": 110,
   "metadata": {},
   "outputs": [
    {
     "data": {
      "text/plain": [
       "0.9994180413843973"
      ]
     },
     "execution_count": 110,
     "metadata": {},
     "output_type": "execute_result"
    }
   ],
   "source": [
    "clf.score(X_train,y_train)"
   ]
  },
  {
   "cell_type": "markdown",
   "metadata": {},
   "source": [
    "By accuracy comparision performed above Decision tree gives better result than any other model. and it can predict the target function with approx 99.9% train accuracy and 96%test accuracy"
   ]
  },
  {
   "cell_type": "code",
   "execution_count": null,
   "metadata": {},
   "outputs": [],
   "source": []
  }
 ],
 "metadata": {
  "kernelspec": {
   "display_name": "Python 3",
   "language": "python",
   "name": "python3"
  },
  "language_info": {
   "codemirror_mode": {
    "name": "ipython",
    "version": 3
   },
   "file_extension": ".py",
   "mimetype": "text/x-python",
   "name": "python",
   "nbconvert_exporter": "python",
   "pygments_lexer": "ipython3",
   "version": "3.7.1"
  }
 },
 "nbformat": 4,
 "nbformat_minor": 2
}
