{
 "cells": [
  {
   "cell_type": "raw",
   "metadata": {},
   "source": [
    "n = number of questions = 20 P = probability of success = 1/4 1-P = probability of failure = 1-1/4 = 3/4\n",
    "\n",
    "No of questions answered exactly wrong , k = 5, n-k = 20 -5 = 15\n",
    "\n",
    " Binomial distribution \n",
    "\n",
    " \n",
    "\n",
    "   P (5 out of 20) = 20 * 19 * 18 * 17 * 16\n",
    "                     ---------------------- * (1/4)^15 * (3/4)^5\n",
    "                       5 * 4 * 3 * 2 * 1\n",
    "   = 0.0000034"
   ]
  },
  {
   "cell_type": "raw",
   "metadata": {},
   "source": [
    "p = 1/5\n",
    "q = 4/5\n",
    "n = 50\n",
    "x = 5\n",
    "P(x) = nCx * p^x * (1 – p)^(n – x) \n",
    "p(D out of A-E)=50C5*1/5^5*4/5^45\n"
   ]
  },
  {
   "cell_type": "code",
   "execution_count": 4,
   "metadata": {},
   "outputs": [
    {
     "name": "stdout",
     "output_type": "stream",
     "text": [
      "0.029531204310524303\n"
     ]
    }
   ],
   "source": [
    "import math\n",
    "def nCr(n,r):\n",
    "    f = math.factorial\n",
    "    return f(n) / f(r) / f(n-r)\n",
    "p = 1/5\n",
    "q = 4/5\n",
    "n = 50\n",
    "x = 5\n",
    "# Defining a function Bin_prob() to find the probability using binomial distribution theorem taking p,q,n,x as arguments\n",
    "p1=(nCr(n,x)*(p)**x*(q)**(n-x))\n",
    "print (p1)"
   ]
  },
  {
   "cell_type": "code",
   "execution_count": null,
   "metadata": {},
   "outputs": [],
   "source": [
    "total no.of Black Balls = 6\n",
    "Total no.of Red balls = 4\n",
    "Total no.of balls = (6+4) = 10\n",
    "Possible outcomes = (RR),(RB),(BR),(BB)\n",
    "Total possibilities in two turns = 10C2 \n",
    "\n",
    "P1-FIRST POSSIBILITY : Two Red Balls(RR)\n",
    "\n",
    "No.of favourable outcomes = 4C2\n",
    "Total no.of outcomes =10C2\n",
    "\n",
    "P2-SECOND POSSIBILITY : One red and One black ball(RB or BR)\n",
    "\n",
    "No.of favourable outcomes = 4C1*6C1\n",
    "Total no.of outcomes = 10C2\n",
    "\n",
    "P3-THIRD POSSIBILITY : Two Black Balls(BB)\n",
    "\n",
    "No.of favourable outcomes = 6C2\n",
    "Total no.of outcomes = 10C2 \n"
   ]
  },
  {
   "cell_type": "code",
   "execution_count": 7,
   "metadata": {},
   "outputs": [
    {
     "name": "stdout",
     "output_type": "stream",
     "text": [
      "0.13333333333333333 0.5333333333333333 0.3333333333333333\n"
     ]
    }
   ],
   "source": [
    "p1 = nCr(4,2)/nCr(10,2)\n",
    "p2 = nCr(4,1)*nCr(6,1)/nCr(10,2)\n",
    "p3 = nCr(6,2)/nCr(10,2)\n",
    "print(p1,p2,p3)"
   ]
  },
  {
   "cell_type": "code",
   "execution_count": null,
   "metadata": {},
   "outputs": [],
   "source": []
  }
 ],
 "metadata": {
  "kernelspec": {
   "display_name": "Python 3",
   "language": "python",
   "name": "python3"
  },
  "language_info": {
   "codemirror_mode": {
    "name": "ipython",
    "version": 3
   },
   "file_extension": ".py",
   "mimetype": "text/x-python",
   "name": "python",
   "nbconvert_exporter": "python",
   "pygments_lexer": "ipython3",
   "version": "3.7.1"
  }
 },
 "nbformat": 4,
 "nbformat_minor": 2
}
