{
 "cells": [
  {
   "cell_type": "code",
   "execution_count": 3,
   "metadata": {},
   "outputs": [
    {
     "name": "stdout",
     "output_type": "stream",
     "text": [
      "Americans play Baseball\n",
      "Americans play Cricket\n",
      "Americans watch Baseball\n",
      "Americans watch Cricket\n",
      "Indians play Baseball\n",
      "Indians play Cricket\n",
      "Indians watch Baseball\n",
      "Indians watch Cricket\n"
     ]
    }
   ],
   "source": [
    "subjects=[\"Americans\",\"Indians\"]\n",
    "verbs=[\" play\",\" watch\"]\n",
    "objects=[\" Baseball\",\" Cricket\"]\n",
    "cml=[]\n",
    "for i in range(len(subjects)):\n",
    "    for j in range(len(verbs)):\n",
    "        for k in range(len(objects)):\n",
    "            c=subjects[i]+verbs[j]+objects[k]\n",
    "            print(c)\n",
    "        "
   ]
  },
  {
   "cell_type": "code",
   "execution_count": 25,
   "metadata": {},
   "outputs": [],
   "source": [
    "def chk_inf():\n",
    "    \n",
    "        try:\n",
    "            a=int(input('enter divisor'))\n",
    "            b=int(input('enter dividend'))\n",
    "            val = a/b\n",
    "            print(val)\n",
    "            \n",
    "        except :\n",
    "            print(\"divide by zero error!\")\n",
    "        \n",
    "        \n",
    "        finally:\n",
    "            print(\"Finally, I executed!\")\n",
    "           "
   ]
  },
  {
   "cell_type": "code",
   "execution_count": 26,
   "metadata": {},
   "outputs": [
    {
     "name": "stdout",
     "output_type": "stream",
     "text": [
      "enter divisor5\n",
      "enter dividend0\n",
      "divide by zero error!\n",
      "Finally, I executed!\n"
     ]
    }
   ],
   "source": [
    "chk_inf()"
   ]
  },
  {
   "cell_type": "code",
   "execution_count": 19,
   "metadata": {},
   "outputs": [],
   "source": [
    "def askint(d):\n",
    "        try:\n",
    "            val = int(d)\n",
    "        except:\n",
    "            print(\"Looks like you did not enter an integer!\")\n",
    "            \n",
    "        finally:\n",
    "            print(\"Finally, I executed!\")\n",
    "        print(val) "
   ]
  },
  {
   "cell_type": "code",
   "execution_count": 14,
   "metadata": {},
   "outputs": [
    {
     "name": "stdout",
     "output_type": "stream",
     "text": [
      "Finally, I executed!\n",
      "8\n"
     ]
    }
   ],
   "source": [
    "n=8\n",
    "askint(n)"
   ]
  },
  {
   "cell_type": "code",
   "execution_count": 15,
   "metadata": {},
   "outputs": [],
   "source": [
    "class SideInput:\n",
    "    def __init__(self,a,b,c):\n",
    "        self.a=a\n",
    "        self.b=b\n",
    "        self.c=c\n",
    "    def inputs(self):\n",
    "        return \"%f %f %f\" %(self.a,self.b,self.c)"
   ]
  },
  {
   "cell_type": "code",
   "execution_count": 16,
   "metadata": {},
   "outputs": [
    {
     "name": "stdout",
     "output_type": "stream",
     "text": [
      "<__main__.SideInput object at 0x00000295F24C0518>\n"
     ]
    }
   ],
   "source": [
    "d=SideInput(4,5,6)\n",
    "print(d)"
   ]
  },
  {
   "cell_type": "code",
   "execution_count": 19,
   "metadata": {},
   "outputs": [],
   "source": [
    "import math\n",
    "class CalcArea(SideInput):\n",
    "\n",
    "        def __init__(self, a,b,c):\n",
    "              super().__init__(a,b,c)\n",
    "        def calc(self):\n",
    "            s=(self.a+self.b+self.c)/2\n",
    "            area=math.sqrt(s*(s-self.a)*(s-self.b)*(s-self.c))\n",
    "            return area\n"
   ]
  },
  {
   "cell_type": "code",
   "execution_count": 21,
   "metadata": {},
   "outputs": [
    {
     "name": "stdout",
     "output_type": "stream",
     "text": [
      "24.0\n"
     ]
    }
   ],
   "source": [
    "d=CalcArea(4,13,15)\n",
    "print(d.calc())\n"
   ]
  },
  {
   "cell_type": "code",
   "execution_count": 38,
   "metadata": {},
   "outputs": [
    {
     "name": "stdout",
     "output_type": "stream",
     "text": [
      "[array([1, 1, 1, 1], dtype=int32), array([1, 2, 3, 4], dtype=int32), array([ 1,  4,  9, 16], dtype=int32), array([ 1,  8, 27, 64], dtype=int32)]\n"
     ]
    },
    {
     "data": {
      "text/plain": [
       "[array([1, 1, 1, 1], dtype=int32),\n",
       " array([1, 2, 3, 4], dtype=int32),\n",
       " array([ 1,  4,  9, 16], dtype=int32),\n",
       " array([ 1,  8, 27, 64], dtype=int32)]"
      ]
     },
     "execution_count": 38,
     "metadata": {},
     "output_type": "execute_result"
    }
   ],
   "source": [
    "import numpy as np\n",
    "ls=[1,2,3,4]\n",
    "a=[]\n",
    "np.array(np.power(ls,2))\n",
    "for i in range(len(ls)):\n",
    "    a.append(np.array(np.power(ls,i)))\n",
    "print(a)\n",
    "a"
   ]
  },
  {
   "cell_type": "code",
   "execution_count": 72,
   "metadata": {},
   "outputs": [
    {
     "data": {
      "text/plain": [
       "[[1.0, 1.0, 1.0, 1.0],\n",
       " [1.0, 2.0, 4.0, 8.0],\n",
       " [1.0, 3.0, 9.0, 27.0],\n",
       " [1.0, 4.0, 16.0, 64.0]]"
      ]
     },
     "execution_count": 72,
     "metadata": {},
     "output_type": "execute_result"
    }
   ],
   "source": [
    "import math\n",
    "ls=[1,2,3,4]\n",
    "d=[]\n",
    "x=[]\n",
    "for i in range(len(ls)):\n",
    "   \n",
    "    for j in range(len(ls)):\n",
    "        v=(math.pow(ls[i],j))\n",
    "        #break\n",
    "        d.append(v)\n",
    "    x.append(d)\n",
    "    d=[]\n",
    "x"
   ]
  },
  {
   "cell_type": "code",
   "execution_count": 75,
   "metadata": {},
   "outputs": [],
   "source": [
    "def askint():\n",
    "    while True:\n",
    "        try:\n",
    "            val = int(input(\"Please enter an integer: \"))\n",
    "        except:\n",
    "            print(\"Looks like you did not enter an integer!\")\n",
    "            continue\n",
    "        else:\n",
    "            print('Yep thats an integer!')\n",
    "            print(val)\n",
    "            break\n",
    "        finally:\n",
    "            print(\"Finally, I executed!\")\n",
    "    print(val)\n",
    "          "
   ]
  },
  {
   "cell_type": "code",
   "execution_count": 77,
   "metadata": {},
   "outputs": [
    {
     "name": "stdout",
     "output_type": "stream",
     "text": [
      "Please enter an integer: njn\n",
      "Looks like you did not enter an integer!\n",
      "Finally, I executed!\n",
      "Please enter an integer: nbn\n",
      "Looks like you did not enter an integer!\n",
      "Finally, I executed!\n",
      "Please enter an integer: njj\n",
      "Looks like you did not enter an integer!\n",
      "Finally, I executed!\n",
      "Please enter an integer: b\n",
      "Looks like you did not enter an integer!\n",
      "Finally, I executed!\n",
      "Please enter an integer: 4\n",
      "Yep thats an integer!\n",
      "4\n",
      "Finally, I executed!\n",
      "4\n"
     ]
    }
   ],
   "source": [
    "askint()"
   ]
  },
  {
   "cell_type": "code",
   "execution_count": null,
   "metadata": {},
   "outputs": [],
   "source": []
  }
 ],
 "metadata": {
  "kernelspec": {
   "display_name": "Python 3",
   "language": "python",
   "name": "python3"
  },
  "language_info": {
   "codemirror_mode": {
    "name": "ipython",
    "version": 3
   },
   "file_extension": ".py",
   "mimetype": "text/x-python",
   "name": "python",
   "nbconvert_exporter": "python",
   "pygments_lexer": "ipython3",
   "version": "3.7.1"
  }
 },
 "nbformat": 4,
 "nbformat_minor": 2
}
