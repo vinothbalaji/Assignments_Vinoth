{
 "cells": [
  {
   "cell_type": "markdown",
   "metadata": {},
   "source": [
    "# Q1. Write a Python program to get the string from the given string where all the occurrence of its first char has been changed to '$,' except first char itself?"
   ]
  },
  {
   "cell_type": "code",
   "execution_count": 6,
   "metadata": {},
   "outputs": [
    {
     "name": "stdout",
     "output_type": "stream",
     "text": [
      "['p', 'r', 'o', 's', 'p', 'e', 'c', 't', 'p', 'p', 'p']\n"
     ]
    },
    {
     "data": {
      "text/plain": [
       "'pros$ect$$$'"
      ]
     },
     "execution_count": 6,
     "metadata": {},
     "output_type": "execute_result"
    }
   ],
   "source": [
    "st=list('prospectppp')\n",
    "print(st)\n",
    "j=0\n",
    "for i in range(len(st)):\n",
    "    if(st[i]=='p'):\n",
    "        j+=1\n",
    "        if(j>1):\n",
    "            st[i]='$'\n",
    "st\n",
    "q=\"\".join(st)\n",
    "q    "
   ]
  },
  {
   "cell_type": "markdown",
   "metadata": {},
   "source": [
    "# Q2. Write a Python program to get the single string from the two given strings, and separated by the space and swap the first two characters of each string?"
   ]
  },
  {
   "cell_type": "code",
   "execution_count": 15,
   "metadata": {},
   "outputs": [
    {
     "data": {
      "text/plain": [
       "'xyc abz'"
      ]
     },
     "execution_count": 15,
     "metadata": {},
     "output_type": "execute_result"
    }
   ],
   "source": [
    "st1='abc'\n",
    "st2='xyz'\n",
    "st3=st1[:2]\n",
    "s1=st3+st2[2:3]\n",
    "st4=st2[:2]\n",
    "s2=st4+st1[2:3]\n",
    "s2+\" \"+s1\n"
   ]
  },
  {
   "cell_type": "markdown",
   "metadata": {},
   "source": [
    "# Q3. Write the Python program to add 'ing' at the end of the given string (length of the string should be at least 3). If given string already ends with 'ing,' then add 'ly' instead. If string length of the given string is less than 3, leave it unchanged?"
   ]
  },
  {
   "cell_type": "code",
   "execution_count": 32,
   "metadata": {},
   "outputs": [
    {
     "name": "stdout",
     "output_type": "stream",
     "text": [
      "enter a stringvv\n",
      "0\n",
      "the ouput sring is vv\n"
     ]
    }
   ],
   "source": [
    "s=input('enter a string')\n",
    "we=s.count('ing')\n",
    "print(we)\n",
    "if(len(s)>3):\n",
    "    if(we>=1):\n",
    "        s=s+'ly'\n",
    "    else:\n",
    "        s=s+'ing'\n",
    "print('the ouput sring is',s)"
   ]
  },
  {
   "cell_type": "code",
   "execution_count": null,
   "metadata": {},
   "outputs": [],
   "source": [
    "'The lyrics are not that poor!' 'The lyrics are poor!'\n",
    "\n",
    "Expected Result: 'The lyrics are good!' 'The lyrics are poor!'"
   ]
  },
  {
   "cell_type": "markdown",
   "metadata": {},
   "source": [
    "# Q4. Write the Python program to find the first appearance of the substring 'not' and 'poor' from the given string, if 'not' follows the 'poor', replace the whole 'not'...' poor' substring with 'good'.Return the resulting string."
   ]
  },
  {
   "cell_type": "code",
   "execution_count": 47,
   "metadata": {},
   "outputs": [
    {
     "data": {
      "text/plain": [
       "'The lyrics are good!'"
      ]
     },
     "execution_count": 47,
     "metadata": {},
     "output_type": "execute_result"
    }
   ],
   "source": [
    "stq='The lyrics are not that poor!' \n",
    "#stq='The lyrics are poor!'\n",
    "diff=stq.find('that')-stq.find('not')\n",
    "lt=stq.split(' ')\n",
    "if(diff==4):\n",
    "    ins=lt.index('not')\n",
    "    lt.insert(ins,'good!')\n",
    "    lt.remove('not')\n",
    "    lt.remove('that')\n",
    "    lt.remove('poor!')\n",
    "    \n",
    "\" \".join(lt)"
   ]
  },
  {
   "cell_type": "code",
   "execution_count": 127,
   "metadata": {},
   "outputs": [
    {
     "name": "stdout",
     "output_type": "stream",
     "text": [
      "['The', 'lyrics', 'are', 'not', 'that', 'are', 'not', 'that', 'not', 'but', 'poor!', '', '', '']\n",
      "hi\n",
      "['The', 'lyrics', 'are', 'good!', 'are', 'not', 'that', 'not', 'but', '', '', '']\n",
      "['The', 'lyrics', 'are', 'good!', 'are', 'not', 'that', 'not', 'but', '', '', ''] 10\n",
      "hi\n",
      "['The', 'lyrics', 'are', 'good!', 'are', 'good!', 'not', 'but', '', '', '']\n",
      "['The', 'lyrics', 'are', 'good!', 'are', 'good!', 'not', 'but', '', '', ''] 9\n"
     ]
    },
    {
     "ename": "IndexError",
     "evalue": "list index out of range",
     "output_type": "error",
     "traceback": [
      "\u001b[1;31m---------------------------------------------------------------------------\u001b[0m",
      "\u001b[1;31mIndexError\u001b[0m                                Traceback (most recent call last)",
      "\u001b[1;32m<ipython-input-127-ec3c750fcb61>\u001b[0m in \u001b[0;36m<module>\u001b[1;34m\u001b[0m\n\u001b[0;32m      7\u001b[0m \u001b[1;32mfor\u001b[0m \u001b[0mi\u001b[0m \u001b[1;32min\u001b[0m \u001b[0mrange\u001b[0m\u001b[1;33m(\u001b[0m\u001b[0md\u001b[0m\u001b[1;33m)\u001b[0m\u001b[1;33m:\u001b[0m\u001b[1;33m\u001b[0m\u001b[1;33m\u001b[0m\u001b[0m\n\u001b[0;32m      8\u001b[0m \u001b[1;33m\u001b[0m\u001b[0m\n\u001b[1;32m----> 9\u001b[1;33m     \u001b[1;32mif\u001b[0m\u001b[1;33m(\u001b[0m\u001b[0mlt\u001b[0m\u001b[1;33m[\u001b[0m\u001b[0mi\u001b[0m\u001b[1;33m]\u001b[0m\u001b[1;33m==\u001b[0m\u001b[1;34m'not'\u001b[0m \u001b[1;32mand\u001b[0m \u001b[0mlt\u001b[0m\u001b[1;33m[\u001b[0m\u001b[0mi\u001b[0m\u001b[1;33m+\u001b[0m\u001b[1;36m1\u001b[0m\u001b[1;33m]\u001b[0m\u001b[1;33m==\u001b[0m\u001b[1;34m'that'\u001b[0m\u001b[1;33m)\u001b[0m\u001b[1;33m:\u001b[0m\u001b[1;33m\u001b[0m\u001b[1;33m\u001b[0m\u001b[0m\n\u001b[0m\u001b[0;32m     10\u001b[0m         \u001b[0mprint\u001b[0m\u001b[1;33m(\u001b[0m\u001b[1;34m'hi'\u001b[0m\u001b[1;33m)\u001b[0m\u001b[1;33m\u001b[0m\u001b[1;33m\u001b[0m\u001b[0m\n\u001b[0;32m     11\u001b[0m         \u001b[0mins\u001b[0m\u001b[1;33m=\u001b[0m\u001b[0mlt\u001b[0m\u001b[1;33m.\u001b[0m\u001b[0mindex\u001b[0m\u001b[1;33m(\u001b[0m\u001b[1;34m'not'\u001b[0m\u001b[1;33m)\u001b[0m\u001b[1;33m\u001b[0m\u001b[1;33m\u001b[0m\u001b[0m\n",
      "\u001b[1;31mIndexError\u001b[0m: list index out of range"
     ]
    }
   ],
   "source": [
    "stq='The lyrics are not that are not that not but poor!  ' \n",
    "stq=stq+\" \"\n",
    "lt=stq.split(' ')\n",
    "d=len(lt)-2\n",
    "print(lt)\n",
    "x=lt.count('poor!')\n",
    "for i in range(d):\n",
    "    \n",
    "    if(lt[i]=='not' and lt[i+1]=='that'):\n",
    "        print('hi')\n",
    "        ins=lt.index('not')\n",
    "        lt.insert(ins,'good!')\n",
    "        lt.remove('not')\n",
    "        lt.remove('that')\n",
    "        if(x!=0):\n",
    "            x=x-1       \n",
    "            lt.remove('poor!')\n",
    "        print(lt)\n",
    "        d=len(lt)-2\n",
    "        print(lt, d)\n",
    "        \n"
   ]
  },
  {
   "cell_type": "markdown",
   "metadata": {},
   "source": [
    "# Q5. Write the Python program to remove the characters which have odd index values of a given string."
   ]
  },
  {
   "cell_type": "code",
   "execution_count": 152,
   "metadata": {},
   "outputs": [
    {
     "name": "stdout",
     "output_type": "stream",
     "text": [
      "old list ['gga', 'gggb', 'ggggc', 'fffffd', 'hhhhe', 'jjjjf'],new list after filtering is['gga', 'ggggc', 'hhhhe']\n"
     ]
    }
   ],
   "source": [
    "lst=['gga','gggb','ggggc','fffffd','hhhhe','jjjjf']\n",
    "newl=[]\n",
    "#q=list(filter(lambda t:t%2==0,lst)\n",
    "for i in range(len(lst)):\n",
    "   \n",
    "    if(i%2==0):\n",
    "        newl.append(lst[i])\n",
    "       \n",
    "    \n",
    "print('old list {0},new list after filtering is{1}'.format(lst,newl))"
   ]
  },
  {
   "cell_type": "markdown",
   "metadata": {},
   "source": [
    "# Q6. Write the Python function to get a string made of 4 copies of the last two characters of the specified string (length must be at least 2)."
   ]
  },
  {
   "cell_type": "code",
   "execution_count": 8,
   "metadata": {},
   "outputs": [
    {
     "name": "stdout",
     "output_type": "stream",
     "text": [
      "enter a stringlion\n"
     ]
    },
    {
     "data": {
      "text/plain": [
       "'onononon'"
      ]
     },
     "execution_count": 8,
     "metadata": {},
     "output_type": "execute_result"
    }
   ],
   "source": [
    "j=input('enter a string')\n",
    "if(len(j)>2):\n",
    "    a=j[-2:]*4\n",
    "else:\n",
    "    a=j\n",
    "    \n",
    "a"
   ]
  },
  {
   "cell_type": "markdown",
   "metadata": {},
   "source": [
    "# Q7.Write the python function to get a string made of its first three characters of a specified string. If the length of the string is less than 3 then return the original string."
   ]
  },
  {
   "cell_type": "code",
   "execution_count": 11,
   "metadata": {},
   "outputs": [
    {
     "name": "stdout",
     "output_type": "stream",
     "text": [
      "enter a stringpyth\n"
     ]
    },
    {
     "data": {
      "text/plain": [
       "'pyt'"
      ]
     },
     "execution_count": 11,
     "metadata": {},
     "output_type": "execute_result"
    }
   ],
   "source": [
    "j=input('enter a string')\n",
    "if(len(j)>3):\n",
    "    a=j[:3]\n",
    "else:\n",
    "    a=j\n",
    "    \n",
    "a"
   ]
  },
  {
   "cell_type": "markdown",
   "metadata": {},
   "source": [
    "# Q8. Write the python program to print the following floating numbers up to 2 decimal places?"
   ]
  },
  {
   "cell_type": "code",
   "execution_count": 16,
   "metadata": {},
   "outputs": [
    {
     "name": "stdout",
     "output_type": "stream",
     "text": [
      "enter a float number7.5345\n",
      "7.53\n"
     ]
    }
   ],
   "source": [
    "f=float(input('enter a float number'))\n",
    "print(\"{0:.2f}\".format(f))"
   ]
  },
  {
   "cell_type": "markdown",
   "metadata": {},
   "source": [
    "# Q9. Write the Python program to format a number with a percentage"
   ]
  },
  {
   "cell_type": "code",
   "execution_count": 26,
   "metadata": {},
   "outputs": [
    {
     "name": "stdout",
     "output_type": "stream",
     "text": [
      "enter a float number89.445\n",
      "8944.50%\n",
      "89.44%\n"
     ]
    }
   ],
   "source": [
    "f=float(input('enter a float number'))\n",
    "print(\"{0:.2%}\".format(f))\n",
    "print (\"{0:.2%}\".format(f/100))"
   ]
  },
  {
   "cell_type": "markdown",
   "metadata": {},
   "source": [
    "# Q10. Write the Python program to count occurrences of a substring in a String?"
   ]
  },
  {
   "cell_type": "code",
   "execution_count": 4,
   "metadata": {},
   "outputs": [
    {
     "data": {
      "text/plain": [
       "4"
      ]
     },
     "execution_count": 4,
     "metadata": {},
     "output_type": "execute_result"
    }
   ],
   "source": [
    "s1='I will win, I will do it, I will conquer, I will clich it'\n",
    "s2='will'\n",
    "ou=s1.count(s2)\n",
    "ou"
   ]
  },
  {
   "cell_type": "markdown",
   "metadata": {},
   "source": [
    "# Q11. Write the Python program to count repeated characters in a string."
   ]
  },
  {
   "cell_type": "code",
   "execution_count": 39,
   "metadata": {},
   "outputs": [
    {
     "name": "stdout",
     "output_type": "stream",
     "text": [
      "e 3\n",
      "h 2\n",
      "o 3\n",
      "r 2\n",
      "t 2\n",
      "u 2\n"
     ]
    },
    {
     "data": {
      "text/plain": [
       "['e', 'h', 'o', 'r', 't', 'u']"
      ]
     },
     "execution_count": 39,
     "metadata": {},
     "output_type": "execute_result"
    }
   ],
   "source": [
    "#k=input('enter a string')\n",
    "#print(k.count('a'))\n",
    "test='thequickbrownjumpsoverthelazydog'\n",
    "t=list(test)\n",
    "l=[]\n",
    "for i in range(97, 97 + 26):\n",
    "    x=t.count(chr(i))\n",
    "    if(x>1):\n",
    "        l.append(chr(i))\n",
    "        print(chr(i),x)\n",
    "l"
   ]
  },
  {
   "cell_type": "markdown",
   "metadata": {},
   "source": [
    "# Q12. Write the Python program to print the square and cube symbol in the area of a rectangle and volume of a cylinder?"
   ]
  },
  {
   "cell_type": "code",
   "execution_count": 34,
   "metadata": {},
   "outputs": [
    {
     "name": "stdout",
     "output_type": "stream",
     "text": [
      "enter length of rectangle1\n",
      "enter breadth of the rectangle2\n",
      "enter the radius of the cylinder3\n",
      "enter the height of the cylinder4\n",
      "α=2.000 m²\n",
      "Volume=113.10 cm³\n"
     ]
    }
   ],
   "source": [
    "# f'\\N{GREEK SMALL LETTER GAMMA}={1.5:.2f} t/m\\N{SUPERSCRIPT THREE}'\n",
    "area=float(input('enter length of rectangle'))*float(input('enter breadth of the rectangle'))\n",
    "import math\n",
    "vol=math.pi*float(input('enter the radius of the cylinder'))**2*float(input('enter the height of the cylinder'))\n",
    "\n",
    "print(f'\\N{GREEK SMALL LETTER ALPHA}={area:.3f} m\\N{SUPERSCRIPT TWO}')\n",
    "print(f'Volume={vol:.2f} cm\\u00b3')\n"
   ]
  },
  {
   "cell_type": "markdown",
   "metadata": {},
   "source": [
    "# Q13. Write the Python program to check if a string contains all letters of the alphabet?"
   ]
  },
  {
   "cell_type": "code",
   "execution_count": 43,
   "metadata": {},
   "outputs": [
    {
     "name": "stdout",
     "output_type": "stream",
     "text": [
      "enter a stringytuxtf\n",
      "only alphabets\n"
     ]
    }
   ],
   "source": [
    "k=input('enter a string')\n",
    "if(k.isalpha()==1):\n",
    "    print('only alphabets')\n",
    "else:\n",
    "    print('mixed')\n"
   ]
  },
  {
   "cell_type": "markdown",
   "metadata": {},
   "source": [
    "# Q14. Write the Python program to find the second most repeated word in a given string?"
   ]
  },
  {
   "cell_type": "code",
   "execution_count": 55,
   "metadata": {},
   "outputs": [
    {
     "name": "stdout",
     "output_type": "stream",
     "text": [
      "['the', 'quick', 'brown', 'jumps', 'over', 'the', 'lazy', 'dog', 'gg', 'gg', 'gg', 'yy', 'yy', 'yy', 'yy', 'iiii', 'i', 'i', 'i', 'i', 'i', 'i', '']\n",
      "[2, 2, 3, 3, 3, 4, 4, 4, 4, 6, 6, 6, 6, 6, 6]\n",
      "The Largest Element in this List is :  6\n",
      "The Second Largest Element in this List is :  4\n",
      "{2: 'the', 3: 'gg', 4: 'yy', 6: 'i'}\n"
     ]
    },
    {
     "data": {
      "text/plain": [
       "'yy'"
      ]
     },
     "execution_count": 55,
     "metadata": {},
     "output_type": "execute_result"
    }
   ],
   "source": [
    "test='the quick brown jumps over the lazy dog gg gg gg yy yy yy yy iiii i i i i i i '\n",
    "t=list(test.split(' '))\n",
    "l=[]\n",
    "l1=[]\n",
    "print(t)\n",
    "for i in range(len(t)-1):\n",
    "    if(t[i]!=' '):\n",
    "        x=t.count(t[i])\n",
    "    #print(x)\n",
    "        if(x>1):\n",
    "            l.append(t[i])\n",
    "            l1.append(x)\n",
    "            \n",
    "d=dict(zip(l1, l))\n",
    "\n",
    "       \n",
    "NumList = l1\n",
    "print(NumList)\n",
    "first = second = NumList[0]\n",
    "for j in range( len(NumList)):\n",
    "    if(NumList[j] > first):\n",
    "        second = first\n",
    "        first = NumList[j]\n",
    "    elif(NumList[j] > second and NumList[j] < first):\n",
    "        second = NumList[j]\n",
    "        \n",
    "\n",
    "print(\"The Largest Element in this List is : \", first)\n",
    "print(\"The Second Largest Element in this List is : \", second)\n",
    "print(d)\n",
    "\n",
    "data = d.get(second)\n",
    "data"
   ]
  },
  {
   "cell_type": "markdown",
   "metadata": {},
   "source": [
    "# Q17. Write the Python program to count number of substrings from a given string of lowercase alphabets with exactly k distinct (given) characters?"
   ]
  },
  {
   "cell_type": "code",
   "execution_count": 12,
   "metadata": {},
   "outputs": [
    {
     "name": "stdout",
     "output_type": "stream",
     "text": [
      "['wo']\n",
      "['wol']\n",
      "['wolf']\n",
      "['ol']\n",
      "['olf']\n",
      "['lf']\n"
     ]
    },
    {
     "data": {
      "text/plain": [
       "6"
      ]
     },
     "execution_count": 12,
     "metadata": {},
     "output_type": "execute_result"
    }
   ],
   "source": [
    "inp='wolf'\n",
    "k=3\n",
    "num=0\n",
    "li=list(inp)\n",
    "if(k==len(inp)):\n",
    "    num+=1\n",
    "else:\n",
    "    for i in range(len(inp)):\n",
    "        for j in range(i + 1, len(inp)):\n",
    "            res = [inp[i:j+1]]\n",
    "            print(res)\n",
    "            num+=1\n",
    "        \n",
    "num"
   ]
  },
  {
   "cell_type": "markdown",
   "metadata": {},
   "source": [
    "# Q30. Write the Python class to get all possible unique subsets from a set of distinct integers?\n"
   ]
  },
  {
   "cell_type": "code",
   "execution_count": 24,
   "metadata": {},
   "outputs": [
    {
     "data": {
      "text/plain": [
       "[[[4]],\n",
       " [[4, 5]],\n",
       " [[4, 5, 6]],\n",
       " [[4, 5, 6, 7]],\n",
       " [[5]],\n",
       " [[5, 6]],\n",
       " [[5, 6, 7]],\n",
       " [[6]],\n",
       " [[6, 7]],\n",
       " [[7]]]"
      ]
     },
     "execution_count": 24,
     "metadata": {},
     "output_type": "execute_result"
    }
   ],
   "source": [
    "l=[4,5,6,7]\n",
    "k=len(l)\n",
    "num=[]\n",
    "h=num\n",
    "\n",
    "for i in range(len(l)):\n",
    "    for j in range(i , len(l)+1):\n",
    "        res = [l[i:j]]\n",
    "        if(res!=[[]]):\n",
    "            num.append(res)\n",
    "num\n",
    "num.sort()\n",
    "num"
   ]
  },
  {
   "cell_type": "code",
   "execution_count": 4,
   "metadata": {},
   "outputs": [],
   "source": [
    " Output =[[], [6], [5], [5, 6], [4], [4, 6], [4, 5], [4, 5, 6]]"
   ]
  },
  {
   "cell_type": "code",
   "execution_count": 25,
   "metadata": {},
   "outputs": [
    {
     "name": "stdout",
     "output_type": "stream",
     "text": [
      "[[], [7], [6], [6, 7], [5], [5, 7], [5, 6], [5, 6, 7], [4], [4, 7], [4, 6], [4, 6, 7], [4, 5], [4, 5, 7], [4, 5, 6], [4, 5, 6, 7]]\n"
     ]
    }
   ],
   "source": [
    "class py_solution:\n",
    "    def sub_sets(self, sset):\n",
    "        return self.subsetsRecur([], sorted(sset))\n",
    "    \n",
    "    def subsetsRecur(self, current, sset):\n",
    "        if sset:\n",
    "            return self.subsetsRecur(current, sset[1:]) + self.subsetsRecur(current + [sset[0]], sset[1:])\n",
    "        return [current]\n",
    "\n",
    "print(py_solution().sub_sets([4,5,6,7])) \n",
    "# courtesy w3resource, using recurrsion"
   ]
  },
  {
   "cell_type": "code",
   "execution_count": 26,
   "metadata": {},
   "outputs": [
    {
     "name": "stdout",
     "output_type": "stream",
     "text": [
      "Object `number` not found.\n"
     ]
    }
   ],
   "source": [
    "Q31. Write the Python class to find a pair of elements (indices of the two numbers) from a given array whose sum equals the specific target number?"
   ]
  },
  {
   "cell_type": "markdown",
   "metadata": {},
   "source": [
    "# Q31. Write the Python class to find a pair of elements (indices of the two numbers) from a given array whose sum equals the specific target number"
   ]
  },
  {
   "cell_type": "code",
   "execution_count": 42,
   "metadata": {},
   "outputs": [
    {
     "data": {
      "text/plain": [
       "(0, 3)"
      ]
     },
     "execution_count": 42,
     "metadata": {},
     "output_type": "execute_result"
    }
   ],
   "source": [
    "num= [10,20,10,40,50,60,70]\n",
    "target=50 \n",
    "#Output- 3, 4\n",
    "for i in range(len(num)):\n",
    "    \n",
    "    for j in range(i+1,len(num)):\n",
    "        val=num[i]+num[j]\n",
    "        #print(val)\n",
    "        if(val==target):\n",
    "            g=num.index(num[i])\n",
    "            k=num.index(num[j])\n",
    "            t=(g,k)\n",
    "            break\n",
    "t"
   ]
  },
  {
   "cell_type": "markdown",
   "metadata": {},
   "source": [
    "# Q39. Write the Python program to create an instance of an OrderedDict using the given dictionary and sort dictionary during the creation and print members of the dictionary in reverse order?"
   ]
  },
  {
   "cell_type": "code",
   "execution_count": 13,
   "metadata": {},
   "outputs": [
    {
     "data": {
      "text/plain": [
       "{'Albania': 355,\n",
       " 'Afghanistan': 93,\n",
       " 'Algeria': 213,\n",
       " 'Andorra': 376,\n",
       " 'Angola': 244}"
      ]
     },
     "execution_count": 13,
     "metadata": {},
     "output_type": "execute_result"
    }
   ],
   "source": [
    "countries={\"Angola\": 244, \"Andorra\": 376, \"Algeria\" :213, \"Afghanistan\": 93, \"Albania\":355}\n",
    "l=list(countries.keys())\n",
    "l.reverse()\n",
    "l\n",
    "rev_dict={}\n",
    "for i in range(len(l)):\n",
    "    g=(countries[l[i]])\n",
    "    rev_dict.update({l[i]:g})\n",
    "rev_dict"
   ]
  },
  {
   "cell_type": "code",
   "execution_count": 18,
   "metadata": {},
   "outputs": [
    {
     "name": "stdout",
     "output_type": "stream",
     "text": [
      "Afghanistan 93\n",
      "Albania 355\n",
      "Algeria 213\n",
      "Andorra 376\n",
      "Angola 244\n",
      "\n",
      "In reverse order:\n",
      "Angola 244\n",
      "Andorra 376\n",
      "Algeria 213\n",
      "Albania 355\n",
      "Afghanistan 93\n"
     ]
    }
   ],
   "source": [
    "from collections import OrderedDict\n",
    "dict = {'Afghanistan': 93, 'Albania': 355, 'Algeria': 213, 'Andorra': 376, 'Angola': 244}\n",
    "new_dict = OrderedDict(dict.items())\n",
    "for key in new_dict:\n",
    "    print (key, new_dict[key])\n",
    "\n",
    "print(\"\\nIn reverse order:\")\n",
    "for key in reversed(new_dict):\n",
    "    print (key, new_dict[key]) \n",
    "    \n",
    "# source W3rresource "
   ]
  },
  {
   "cell_type": "markdown",
   "metadata": {},
   "source": [
    "# Q40.Write the Python program to compare two unordered lists (not sets)?"
   ]
  },
  {
   "cell_type": "code",
   "execution_count": 32,
   "metadata": {},
   "outputs": [
    {
     "name": "stdout",
     "output_type": "stream",
     "text": [
      "True\n"
     ]
    }
   ],
   "source": [
    " \n",
    "n1 = [30, 20, 10, 30, 20, 50]\n",
    "n2 = [30, 20, 10, 30, 20, 50]\n",
    "#n2 = [40, 20, 10, 30, 20, 50]\n",
    "li=list(map(lambda x,y: x == y,n1,n2))\n",
    "li\n",
    "if(li.count(1)==len(li)):\n",
    "    print('True')\n",
    "else:\n",
    "    print('False')\n"
   ]
  },
  {
   "cell_type": "code",
   "execution_count": 37,
   "metadata": {},
   "outputs": [
    {
     "name": "stdout",
     "output_type": "stream",
     "text": [
      "Counter({30: 2, 20: 2, 10: 1, 50: 1}) Counter({30: 2, 20: 2, 10: 1, 50: 1})\n",
      "True\n"
     ]
    }
   ],
   "source": [
    "from collections import Counter\n",
    "def compare_lists(x, y):\n",
    "    print(Counter(x),Counter(y))\n",
    "    return Counter(x) == Counter(y) # counts simillar value in a list imported from collections\n",
    "#n1 = [20, 10, 30, 10, 20, 30]\n",
    "n2 = [30, 20, 10, 30, 20, 50]\n",
    "n1 = [30, 20, 10, 30, 20, 50]\n",
    "print(compare_lists(n1, n2))\n",
    "\n",
    "# source W3rresource "
   ]
  },
  {
   "cell_type": "markdown",
   "metadata": {},
   "source": [
    "# Q42. Write the Python program to convert an array to an array of machine values and return the bytes representation?"
   ]
  },
  {
   "cell_type": "markdown",
   "metadata": {},
   "source": [
    "# Q41. Write the Python program to get an array buffer information?"
   ]
  },
  {
   "cell_type": "code",
   "execution_count": 72,
   "metadata": {},
   "outputs": [
    {
     "name": "stdout",
     "output_type": "stream",
     "text": [
      "2\n",
      "3\n",
      "45\n",
      "7\n",
      "8\n",
      "1\n",
      "b'vinoth'\n"
     ]
    }
   ],
   "source": [
    "from array import *\n",
    "a=array('h',[2,3,45,7,8,1])\n",
    "for i in a:\n",
    "    print(i)\n",
    "a.buffer_info()\n",
    "ar=array('b', [118, 105, 110, 111, 116, 104])\n",
    "ar1=array('i', [1, 2, 3, 4, 5, 6])\n",
    "s=ar.tobytes()\n",
    "print(s)"
   ]
  },
  {
   "cell_type": "code",
   "execution_count": 73,
   "metadata": {},
   "outputs": [
    {
     "name": "stdout",
     "output_type": "stream",
     "text": [
      "Original array:\n",
      "A1: array('i', [1, 2, 3, 4, 5, 6])\n",
      "Array of bytes: b'010000000200000003000000040000000500000006000000'\n"
     ]
    }
   ],
   "source": [
    "import array\n",
    "import binascii\n",
    "a = array.array('i', [1,2,3,4,5,6])\n",
    "print(\"Original array:\")\n",
    "print('A1:', a)\n",
    "bytes_array = a.tobytes()\n",
    "print('Array of bytes:', binascii.hexlify(bytes_array))#courtesy W3R"
   ]
  },
  {
   "cell_type": "markdown",
   "metadata": {},
   "source": [
    "# Q44. Write the Python program to push three items into the heap and return the smallest item from the heap. Also, return and pop the smallest item from the heap?"
   ]
  },
  {
   "cell_type": "code",
   "execution_count": 61,
   "metadata": {},
   "outputs": [
    {
     "data": {
      "text/plain": [
       "{'VI': 5, 'VII': 3, 'IX': 2}"
      ]
     },
     "execution_count": 61,
     "metadata": {},
     "output_type": "execute_result"
    }
   ],
   "source": [
    "dict1={'VI': 5, 'VII': 3,'VIII': 1,'IX':2}\n",
    "j=len(dict1)\n",
    "k=list(dict1.values())\n",
    "m=list(dict1.keys())\n",
    "l=min(k)\n",
    "c=k.index(l)\n",
    "k.remove(k[c])\n",
    "m.remove(m[c])\n",
    "\n",
    "\n",
    "d1={}\n",
    "for i in range(len(m)):\n",
    "    d1.update({m[i]:k[i]})\n",
    "d1\n",
    "# please let me know any other easy program tech"
   ]
  },
  {
   "cell_type": "markdown",
   "metadata": {},
   "source": [
    "# Q46. Write the Python program to create the FIFO queue?"
   ]
  },
  {
   "cell_type": "code",
   "execution_count": 62,
   "metadata": {},
   "outputs": [
    {
     "name": "stdout",
     "output_type": "stream",
     "text": [
      "0 1 2 3 \n",
      "\n"
     ]
    }
   ],
   "source": [
    "import queue\n",
    "q = queue.Queue()\n",
    "#insert items at the end of the queue \n",
    "for x in range(4):\n",
    "    q.put(str(x))\n",
    "#remove items from the head of the queue \n",
    "while not q.empty():\n",
    "    print(q.get(), end=\" \")\n",
    "print(\"\\n\")\n"
   ]
  },
  {
   "cell_type": "code",
   "execution_count": 74,
   "metadata": {},
   "outputs": [
    {
     "name": "stdout",
     "output_type": "stream",
     "text": [
      "enter a number2\n"
     ]
    },
    {
     "data": {
      "text/plain": [
       "1.5"
      ]
     },
     "execution_count": 74,
     "metadata": {},
     "output_type": "execute_result"
    }
   ],
   "source": [
    "n=int(input('enter a number'))\n",
    "sum=0\n",
    "for i in range(1,n+1):\n",
    "    sum+=(1/float(i))\n",
    "sum"
   ]
  },
  {
   "cell_type": "code",
   "execution_count": 92,
   "metadata": {},
   "outputs": [
    {
     "name": "stdout",
     "output_type": "stream",
     "text": [
      "[[6. 6. 6. 6. 6.]\n",
      " [6. 0. 0. 0. 6.]\n",
      " [6. 0. 0. 0. 6.]\n",
      " [6. 0. 0. 0. 6.]\n",
      " [6. 6. 6. 6. 6.]]\n"
     ]
    }
   ],
   "source": [
    "import numpy as np\n",
    "x=np.ones((5,5))*6\n",
    "\n",
    "x[1:-1,1:-1] = 0\n",
    "print(x)"
   ]
  },
  {
   "cell_type": "code",
   "execution_count": 86,
   "metadata": {},
   "outputs": [
    {
     "name": "stdout",
     "output_type": "stream",
     "text": [
      "Original array:\n",
      "[[1. 1. 1. 1. 1.]\n",
      " [1. 1. 1. 1. 1.]\n",
      " [1. 1. 1. 1. 1.]\n",
      " [1. 1. 1. 1. 1.]\n",
      " [1. 1. 1. 1. 1.]]\n",
      "1 on the border and 0 inside in the array\n",
      "[[1. 1. 1. 1. 1.]\n",
      " [1. 0. 0. 0. 1.]\n",
      " [1. 0. 0. 0. 1.]\n",
      " [1. 0. 0. 0. 1.]\n",
      " [1. 1. 1. 1. 1.]]\n"
     ]
    }
   ],
   "source": []
  },
  {
   "cell_type": "code",
   "execution_count": 94,
   "metadata": {},
   "outputs": [
    {
     "name": "stdout",
     "output_type": "stream",
     "text": [
      "Checkerboard pattern:\n",
      "[[0 1 0 1 0 1 0 1]\n",
      " [1 0 1 0 1 0 1 0]\n",
      " [0 1 0 1 0 1 0 1]\n",
      " [1 0 1 0 1 0 1 0]\n",
      " [0 1 0 1 0 1 0 1]\n",
      " [1 0 1 0 1 0 1 0]\n",
      " [0 1 0 1 0 1 0 1]\n",
      " [1 0 1 0 1 0 1 0]]\n"
     ]
    }
   ],
   "source": [
    "import numpy as np\n",
    "x = np.ones((3,3))\n",
    "print(\"Checkerboard pattern:\")\n",
    "x = np.zeros((8,8),dtype=int)\n",
    "x[1::2,::2] = 1\n",
    "x[::2,1::2] = 1\n",
    "print(x)\n"
   ]
  },
  {
   "cell_type": "markdown",
   "metadata": {},
   "source": [
    "# Q69. Write the NumPy program to create a new array of 3*5, filled with 2?"
   ]
  },
  {
   "cell_type": "code",
   "execution_count": 97,
   "metadata": {},
   "outputs": [
    {
     "name": "stdout",
     "output_type": "stream",
     "text": [
      "[[2. 2. 2. 2. 2.]\n",
      " [2. 2. 2. 2. 2.]\n",
      " [2. 2. 2. 2. 2.]] [[2. 2. 2. 2. 2.]\n",
      " [2. 2. 2. 2. 2.]\n",
      " [2. 2. 2. 2. 2.]]\n"
     ]
    }
   ],
   "source": [
    "n=np.ones((3,5))*2\n",
    "n1=np.ones((3,5))*2\n",
    "print(n,n1)\n",
    "Q50. Write the NumPy program to create an empty and a full array."
   ]
  },
  {
   "cell_type": "code",
   "execution_count": 118,
   "metadata": {},
   "outputs": [
    {
     "name": "stdout",
     "output_type": "stream",
     "text": [
      "[ 17.77777778  11.11111111  -7.33888889  -1.11111111 -37.72777778]\n"
     ]
    }
   ],
   "source": [
    "f=np.array([0, 12, 45.21 ,34, 99.91])\n",
    "\n",
    "d=np.zeros(len(f))\n",
    "\n",
    "for i in range(len(f)):\n",
    "    s=(5/9)*(32-f[i])\n",
    "    c[i]=(np.add(0,s))\n",
    "    \n",
    "print(c)"
   ]
  },
  {
   "cell_type": "code",
   "execution_count": 125,
   "metadata": {},
   "outputs": [
    {
     "name": "stdout",
     "output_type": "stream",
     "text": [
      "the real parts are [1.  0.7],and the complex parts are[88.          0.70710678]\n"
     ]
    }
   ],
   "source": [
    "com=np.array([ 1.00000000+88.j, 0.7+0.70710678j])\n",
    "com\n",
    "re=np.real(com)\n",
    "im=np.imag(com)\n",
    "print('the real parts are {},and the complex parts are{}'.format(re,im))"
   ]
  },
  {
   "cell_type": "code",
   "execution_count": 205,
   "metadata": {},
   "outputs": [
    {
     "name": "stdout",
     "output_type": "stream",
     "text": [
      "[False  True False  True False]\n"
     ]
    },
    {
     "data": {
      "text/plain": [
       "[False, True, False, True, False]"
      ]
     },
     "execution_count": 205,
     "metadata": {},
     "output_type": "execute_result"
    }
   ],
   "source": [
    "h=np.array([ 0, 10, 20, 40, 60])\n",
    "l=np.array([10,40])\n",
    "print(np.in1d(h, l)) # w3resource\n",
    "ls=[]\n",
    "\n",
    "k=0\n",
    "e=0\n",
    "for i in range(len(l)):\n",
    "    \n",
    "    for j in range(len(h)):\n",
    "        k=k+1         \n",
    "        if(l[i]==h[j]):\n",
    "            if(i>0 and h[j]==1):\n",
    "                continue\n",
    "                            \n",
    "            ls.append(1)\n",
    "        else:\n",
    "            ls.append(0)\n",
    "    ls1[i]=ls[e:k+1]\n",
    "    e=k\n",
    "d=ls1[0]\n",
    "f=ls1[1]\n",
    "re=[]\n",
    "for i in range(len(h)):\n",
    "    re.append(bool(int(d[i])+int(f[i])))\n",
    "    \n",
    "\n",
    "re\n"
   ]
  },
  {
   "cell_type": "code",
   "execution_count": 27,
   "metadata": {},
   "outputs": [
    {
     "name": "stdout",
     "output_type": "stream",
     "text": [
      "Original array:\n",
      "[[ 1  1  0]\n",
      " [ 0  0  0]\n",
      " [ 0  2  3]\n",
      " [ 0  0  0]\n",
      " [ 0 -1  1]\n",
      " [ 0  0  0]]\n",
      "<class 'set'>\n",
      "\n",
      "Non-zero unique rows:\n",
      "[[ 1  1  0]\n",
      " [ 0  2  3]\n",
      " [ 0 -1  1]]\n"
     ]
    }
   ],
   "source": [
    "import numpy as np\n",
    "arra = np.array([[ 1,  1,  0],\n",
    "                 [ 0,  0,  0],\n",
    "                 [ 0,  2,  3],\n",
    "                 [ 0,  0,  0],\n",
    "                 [ 0, -1,  1],\n",
    "                 [ 0,  0,  0]])\n",
    "\n",
    "print(\"Original array:\")\n",
    "print(arra)\n",
    "temp = {(0, 0, 0)}\n",
    "print(type(temp))\n",
    "result = []\n",
    "for idx, row in enumerate(map(tuple, arra)):\n",
    "    if row not in temp:\n",
    "        result.append(idx)\n",
    "print(\"\\nNon-zero unique rows:\")\n",
    "print(arra[result])\n"
   ]
  },
  {
   "cell_type": "code",
   "execution_count": 35,
   "metadata": {},
   "outputs": [
    {
     "name": "stdout",
     "output_type": "stream",
     "text": [
      "g\n",
      "g\n",
      "g\n"
     ]
    },
    {
     "data": {
      "text/plain": [
       "array([[ 1,  1,  0],\n",
       "       [ 0,  2,  3],\n",
       "       [ 0,  0,  0],\n",
       "       [ 0, -1,  1]])"
      ]
     },
     "execution_count": 35,
     "metadata": {},
     "output_type": "execute_result"
    }
   ],
   "source": [
    "import numpy as np\n",
    "arra = np.array([[ 1,  1,  0],\n",
    "                 [ 0,  0,  0],\n",
    "                 [ 0,  2,  3],\n",
    "                 [ 0,  0,  0],\n",
    "                 [ 0, -1,  1],\n",
    "                 [ 0,  0,  0]])\n",
    "\n",
    "\n",
    "len(arra)\n",
    "j=c=0\n",
    "\n",
    "for i in range(len(arra)):\n",
    "    for j in range(3):\n",
    "        if(arra[i,j]==0):\n",
    "            c+=1\n",
    "            \n",
    "    \n",
    "    if(c==3):\n",
    "        h=np.delete(arra,[i,j-1],0)\n",
    "        print('g')\n",
    "        \n",
    "    c=0\n",
    "    \n",
    "h\n"
   ]
  },
  {
   "cell_type": "markdown",
   "metadata": {},
   "source": [
    "# Q87. Write the NumPy program to multiply the matrix by another matrix of complex numbers and create a new matrix of complex numbers?"
   ]
  },
  {
   "cell_type": "code",
   "execution_count": 38,
   "metadata": {},
   "outputs": [
    {
     "name": "stdout",
     "output_type": "stream",
     "text": [
      "[-15.+43.j -13.+82.j]\n",
      "(128-9j)\n"
     ]
    }
   ],
   "source": [
    "a=np.array([3+5j,5+6j])\n",
    "b = np.array([5+6j,7+8j])\n",
    "print(a*b)\n",
    "print(np.vdot(a,b))"
   ]
  },
  {
   "cell_type": "markdown",
   "metadata": {},
   "source": [
    "# Q88. Write a NumPy program to generate the matrix product of two Arrays?"
   ]
  },
  {
   "cell_type": "code",
   "execution_count": 39,
   "metadata": {},
   "outputs": [
    {
     "data": {
      "text/plain": [
       "array([[3, 1],\n",
       "       [5, 3]])"
      ]
     },
     "execution_count": 39,
     "metadata": {},
     "output_type": "execute_result"
    }
   ],
   "source": [
    "x=np.array([[1, 0], [1, 1]])\n",
    "y=np.array( [[3, 1], [2, 2]])\n",
    "np.matmul(x,y)"
   ]
  },
  {
   "cell_type": "markdown",
   "metadata": {},
   "source": [
    "# Q89. Write the NumPy program to find roots of the following Polynomials?"
   ]
  },
  {
   "cell_type": "code",
   "execution_count": 47,
   "metadata": {},
   "outputs": [
    {
     "data": {
      "text/plain": [
       "array([-7.24264069,  1.24264069])"
      ]
     },
     "execution_count": 47,
     "metadata": {},
     "output_type": "execute_result"
    }
   ],
   "source": [
    "x=np.array([1,6,-9])\n",
    "np.roots(x)"
   ]
  },
  {
   "cell_type": "markdown",
   "metadata": {},
   "source": [
    "# Q90. Write the NumPy program to calculate inverse of sine, cosine, and inverse tangent for all elements in a given array?\n",
    "Sample output- Inverse sine- [-1.57079633 0. 1.57079633] Inverse cosine- [3.14159265 1.57079633 0. ] Inverse tangent- [-0.78539816 0. 0.78539816]"
   ]
  },
  {
   "cell_type": "code",
   "execution_count": 55,
   "metadata": {},
   "outputs": [
    {
     "name": "stdout",
     "output_type": "stream",
     "text": [
      "0.0\n",
      "1.5707963267948966\n",
      "0.0\n",
      "0.7853981633974483\n"
     ]
    }
   ],
   "source": [
    "print(np.sin(0))\n",
    "print(np.arccos(0))\n",
    "print(np.arcsin(0))\n",
    "print(np.arctan(1))\n"
   ]
  },
  {
   "cell_type": "markdown",
   "metadata": {},
   "source": [
    "# Q91. Write the NumPy program to calculate the difference between in neighbouring elements, element-wise of a given array?"
   ]
  },
  {
   "cell_type": "code",
   "execution_count": 68,
   "metadata": {},
   "outputs": [
    {
     "data": {
      "text/plain": [
       "[-7, 2, 2, 2]"
      ]
     },
     "execution_count": 68,
     "metadata": {},
     "output_type": "execute_result"
    }
   ],
   "source": [
    "d=np.array([1 ,3 ,5 ,7 ,0])\n",
    "g=[]\n",
    "for i in range(len(d)-1,0,-1):\n",
    "    g.append(d[i]-d[i-1])\n",
    "#g.reverse()\n",
    "g"
   ]
  },
  {
   "cell_type": "markdown",
   "metadata": {},
   "source": [
    "# Q92. Write the Python program to find the maximum and the minimum value of a given flattened array?"
   ]
  },
  {
   "cell_type": "code",
   "execution_count": 70,
   "metadata": {},
   "outputs": [
    {
     "name": "stdout",
     "output_type": "stream",
     "text": [
      "3\n",
      "0\n"
     ]
    }
   ],
   "source": [
    "f=np.array([[0, 1], [2, 3]])\n",
    "print(np.max(f))\n",
    "print(np.min(f))\n"
   ]
  },
  {
   "cell_type": "markdown",
   "metadata": {},
   "source": [
    "# Q93. Write the NumPy program to calculate the difference between in the maximum and the minimum values of a given array along the second axis ?"
   ]
  },
  {
   "cell_type": "code",
   "execution_count": 76,
   "metadata": {},
   "outputs": [
    {
     "name": "stdout",
     "output_type": "stream",
     "text": [
      "5\n",
      "6\n"
     ]
    }
   ],
   "source": [
    "b=np.array([[ 0, 1 ,2 ,3 ,4, 5], [ 6, 7, 8, 9, 10, 12]])\n",
    "print(np.max(b[0])-np.min(b[0]))\n",
    "print(np.max(b[1])-np.min(b[1]))"
   ]
  },
  {
   "cell_type": "markdown",
   "metadata": {},
   "source": [
    "# Q94. Write the NumPy program to compute the weighted of the given array ?"
   ]
  },
  {
   "cell_type": "code",
   "execution_count": 80,
   "metadata": {},
   "outputs": [
    {
     "data": {
      "text/plain": [
       "2.0"
      ]
     },
     "execution_count": 80,
     "metadata": {},
     "output_type": "execute_result"
    }
   ],
   "source": [
    "b=np.array([0, 1 ,2 ,3 ,4])\n",
    "np.average(b)\n"
   ]
  },
  {
   "cell_type": "code",
   "execution_count": 81,
   "metadata": {},
   "outputs": [
    {
     "data": {
      "text/plain": [
       "2.25"
      ]
     },
     "execution_count": 81,
     "metadata": {},
     "output_type": "execute_result"
    }
   ],
   "source": [
    "9/4\n"
   ]
  },
  {
   "cell_type": "code",
   "execution_count": 82,
   "metadata": {},
   "outputs": [
    {
     "name": "stdout",
     "output_type": "stream",
     "text": [
      "\n",
      "Original array:\n",
      "[0 1 2 3 4]\n",
      "\n",
      "Weighted average of the said array:\n",
      "2.6666666666666665\n"
     ]
    }
   ],
   "source": [
    "import numpy as np\n",
    "x = np.arange(5)\n",
    "print(\"\\nOriginal array:\")\n",
    "print(x)\n",
    "weights = np.arange(1, 6)\n",
    "r1 = np.average(x, weights=weights)\n",
    "r2 = (x*(weights/weights.sum())).sum()\n",
    "assert np.allclose(r1, r2)\n",
    "print(\"\\nWeighted average of the said array:\")\n",
    "print(r1)\n"
   ]
  },
  {
   "cell_type": "code",
   "execution_count": null,
   "metadata": {},
   "outputs": [],
   "source": []
  }
 ],
 "metadata": {
  "kernelspec": {
   "display_name": "Python 3",
   "language": "python",
   "name": "python3"
  },
  "language_info": {
   "codemirror_mode": {
    "name": "ipython",
    "version": 3
   },
   "file_extension": ".py",
   "mimetype": "text/x-python",
   "name": "python",
   "nbconvert_exporter": "python",
   "pygments_lexer": "ipython3",
   "version": "3.7.1"
  }
 },
 "nbformat": 4,
 "nbformat_minor": 2
}
